{
 "cells": [
  {
   "cell_type": "code",
   "execution_count": 2,
   "id": "df9ed520",
   "metadata": {},
   "outputs": [
    {
     "data": {
      "text/html": [
       "<div>\n",
       "<style scoped>\n",
       "    .dataframe tbody tr th:only-of-type {\n",
       "        vertical-align: middle;\n",
       "    }\n",
       "\n",
       "    .dataframe tbody tr th {\n",
       "        vertical-align: top;\n",
       "    }\n",
       "\n",
       "    .dataframe thead th {\n",
       "        text-align: right;\n",
       "    }\n",
       "</style>\n",
       "<table border=\"1\" class=\"dataframe\">\n",
       "  <thead>\n",
       "    <tr style=\"text-align: right;\">\n",
       "      <th></th>\n",
       "      <th>make</th>\n",
       "      <th>model</th>\n",
       "      <th>guid</th>\n",
       "      <th>deviceType</th>\n",
       "      <th>assetClass</th>\n",
       "      <th>productNumber</th>\n",
       "      <th>printTechnology</th>\n",
       "      <th>country</th>\n",
       "      <th>currencyRate</th>\n",
       "      <th>econoMode</th>\n",
       "      <th>...</th>\n",
       "      <th>url</th>\n",
       "      <th>powerActiveUnit</th>\n",
       "      <th>powerIdleUnit</th>\n",
       "      <th>powerSaveUnit</th>\n",
       "      <th>weightUnit</th>\n",
       "      <th>depthUnit</th>\n",
       "      <th>heightUnit</th>\n",
       "      <th>widthUnit</th>\n",
       "      <th>speedMonoUnit</th>\n",
       "      <th>speedColorUnit</th>\n",
       "    </tr>\n",
       "  </thead>\n",
       "  <tbody>\n",
       "    <tr>\n",
       "      <th>0</th>\n",
       "      <td>Brother</td>\n",
       "      <td>MFC-J6710DW</td>\n",
       "      <td>BR0092</td>\n",
       "      <td>multifunctionColor</td>\n",
       "      <td>Personal/Small Office/Home Office/Workgroup</td>\n",
       "      <td>MFCJ6710DW</td>\n",
       "      <td>Inkjet</td>\n",
       "      <td>United States</td>\n",
       "      <td>1.000000</td>\n",
       "      <td>False</td>\n",
       "      <td>...</td>\n",
       "      <td>https://icecat.us/en_in/p/brother/mfc-j6710dw/...</td>\n",
       "      <td>watt</td>\n",
       "      <td>watt</td>\n",
       "      <td>watt</td>\n",
       "      <td>lbs</td>\n",
       "      <td>in</td>\n",
       "      <td>in</td>\n",
       "      <td>in</td>\n",
       "      <td>ppm</td>\n",
       "      <td>ppm</td>\n",
       "    </tr>\n",
       "    <tr>\n",
       "      <th>1</th>\n",
       "      <td>Brother</td>\n",
       "      <td>MFC-9340CDW</td>\n",
       "      <td>BR0096</td>\n",
       "      <td>multifunctionColor</td>\n",
       "      <td>Small/Medium Workgroup</td>\n",
       "      <td>MFC9340CDW</td>\n",
       "      <td>Laser</td>\n",
       "      <td>United States</td>\n",
       "      <td>1.000000</td>\n",
       "      <td>False</td>\n",
       "      <td>...</td>\n",
       "      <td>https://www.brother.com.au/brochures/MFC-9340C...</td>\n",
       "      <td>watt</td>\n",
       "      <td>watt</td>\n",
       "      <td>watt</td>\n",
       "      <td>lbs</td>\n",
       "      <td>in</td>\n",
       "      <td>in</td>\n",
       "      <td>in</td>\n",
       "      <td>ppm</td>\n",
       "      <td>ppm</td>\n",
       "    </tr>\n",
       "    <tr>\n",
       "      <th>2</th>\n",
       "      <td>Brother</td>\n",
       "      <td>MFC-9330CDW</td>\n",
       "      <td>BR0101</td>\n",
       "      <td>multifunctionColor</td>\n",
       "      <td>Workgroup</td>\n",
       "      <td>MFC9330CDW</td>\n",
       "      <td>Laser</td>\n",
       "      <td>United States</td>\n",
       "      <td>1.000000</td>\n",
       "      <td>False</td>\n",
       "      <td>...</td>\n",
       "      <td>https://www.brother.com.au/brochures/MFC-9330C...</td>\n",
       "      <td>watt</td>\n",
       "      <td>watt</td>\n",
       "      <td>watt</td>\n",
       "      <td>lbs</td>\n",
       "      <td>in</td>\n",
       "      <td>in</td>\n",
       "      <td>in</td>\n",
       "      <td>ppm</td>\n",
       "      <td>ppm</td>\n",
       "    </tr>\n",
       "    <tr>\n",
       "      <th>3</th>\n",
       "      <td>Brother</td>\n",
       "      <td>MFC-J6920DW</td>\n",
       "      <td>BR0104</td>\n",
       "      <td>multifunctionColor</td>\n",
       "      <td>Personal/Small Office/Home Office/Workgroup</td>\n",
       "      <td>MFCJ6920DW</td>\n",
       "      <td>Inkjet</td>\n",
       "      <td>United States</td>\n",
       "      <td>1.000000</td>\n",
       "      <td>False</td>\n",
       "      <td>...</td>\n",
       "      <td>https://icecat.us/en_in/p/brother/mfc-j6920dw/...</td>\n",
       "      <td>watt</td>\n",
       "      <td>watt</td>\n",
       "      <td>watt</td>\n",
       "      <td>lbs</td>\n",
       "      <td>in</td>\n",
       "      <td>in</td>\n",
       "      <td>in</td>\n",
       "      <td>ppm</td>\n",
       "      <td>ppm</td>\n",
       "    </tr>\n",
       "    <tr>\n",
       "      <th>4</th>\n",
       "      <td>Brother</td>\n",
       "      <td>MFC-9460CDN</td>\n",
       "      <td>BR0107</td>\n",
       "      <td>multifunctionColor</td>\n",
       "      <td>Personal/Small Office/Home Office/Workgroup</td>\n",
       "      <td>MFC9460CDN</td>\n",
       "      <td>Laser</td>\n",
       "      <td>United States</td>\n",
       "      <td>1.000000</td>\n",
       "      <td>False</td>\n",
       "      <td>...</td>\n",
       "      <td>https://icecat.us/en_in/p/brother/mfc-9460cdn/...</td>\n",
       "      <td>watt</td>\n",
       "      <td>watt</td>\n",
       "      <td>watt</td>\n",
       "      <td>lbs</td>\n",
       "      <td>in</td>\n",
       "      <td>in</td>\n",
       "      <td>in</td>\n",
       "      <td>ppm</td>\n",
       "      <td>ppm</td>\n",
       "    </tr>\n",
       "    <tr>\n",
       "      <th>...</th>\n",
       "      <td>...</td>\n",
       "      <td>...</td>\n",
       "      <td>...</td>\n",
       "      <td>...</td>\n",
       "      <td>...</td>\n",
       "      <td>...</td>\n",
       "      <td>...</td>\n",
       "      <td>...</td>\n",
       "      <td>...</td>\n",
       "      <td>...</td>\n",
       "      <td>...</td>\n",
       "      <td>...</td>\n",
       "      <td>...</td>\n",
       "      <td>...</td>\n",
       "      <td>...</td>\n",
       "      <td>...</td>\n",
       "      <td>...</td>\n",
       "      <td>...</td>\n",
       "      <td>...</td>\n",
       "      <td>...</td>\n",
       "      <td>...</td>\n",
       "    </tr>\n",
       "    <tr>\n",
       "      <th>4208</th>\n",
       "      <td>Xerox</td>\n",
       "      <td>EC8056</td>\n",
       "      <td>XE1011</td>\n",
       "      <td>multifunctionColor</td>\n",
       "      <td>Medium/Large Workgroup</td>\n",
       "      <td>EC8056</td>\n",
       "      <td>Laser</td>\n",
       "      <td>United States</td>\n",
       "      <td>1.000000</td>\n",
       "      <td>False</td>\n",
       "      <td>...</td>\n",
       "      <td>https://www.jtfbus.com/item/24668/xerox-ec8056...</td>\n",
       "      <td>watt</td>\n",
       "      <td>watt</td>\n",
       "      <td>watt</td>\n",
       "      <td>lbs</td>\n",
       "      <td>in</td>\n",
       "      <td>in</td>\n",
       "      <td>in</td>\n",
       "      <td>ppm</td>\n",
       "      <td>ppm</td>\n",
       "    </tr>\n",
       "    <tr>\n",
       "      <th>4209</th>\n",
       "      <td>Xerox</td>\n",
       "      <td>AltaLink C8155</td>\n",
       "      <td>XE0993</td>\n",
       "      <td>multifunctionColor</td>\n",
       "      <td>Workgroup</td>\n",
       "      <td>ALC8155</td>\n",
       "      <td>Laser</td>\n",
       "      <td>United States</td>\n",
       "      <td>1.000000</td>\n",
       "      <td>False</td>\n",
       "      <td>...</td>\n",
       "      <td>https://www.office.xerox.com/en-us/multifuncti...</td>\n",
       "      <td>watt</td>\n",
       "      <td>watt</td>\n",
       "      <td>watt</td>\n",
       "      <td>lbs</td>\n",
       "      <td>in</td>\n",
       "      <td>in</td>\n",
       "      <td>in</td>\n",
       "      <td>ppm</td>\n",
       "      <td>ppm</td>\n",
       "    </tr>\n",
       "    <tr>\n",
       "      <th>4210</th>\n",
       "      <td>Hewlett-Packard</td>\n",
       "      <td>Smart Tank 7306 All-in-One</td>\n",
       "      <td>HP3335</td>\n",
       "      <td>multifunctionColor</td>\n",
       "      <td>Individuals/small workgroup</td>\n",
       "      <td>28B76A</td>\n",
       "      <td>Inkjet</td>\n",
       "      <td>Netherlands</td>\n",
       "      <td>1.141611</td>\n",
       "      <td>False</td>\n",
       "      <td>...</td>\n",
       "      <td>https://www.hp.com/ie-en/products/printers/pro...</td>\n",
       "      <td>watt</td>\n",
       "      <td>watt</td>\n",
       "      <td>watt</td>\n",
       "      <td>lbs</td>\n",
       "      <td>in</td>\n",
       "      <td>in</td>\n",
       "      <td>in</td>\n",
       "      <td>ppm</td>\n",
       "      <td>ppm</td>\n",
       "    </tr>\n",
       "    <tr>\n",
       "      <th>4211</th>\n",
       "      <td>Canon</td>\n",
       "      <td>i-SENSYS X C1127i</td>\n",
       "      <td>CN1664</td>\n",
       "      <td>multifunctionColor</td>\n",
       "      <td>Workgroup</td>\n",
       "      <td>3101C052</td>\n",
       "      <td>Laser</td>\n",
       "      <td>United Kingdom</td>\n",
       "      <td>1.303416</td>\n",
       "      <td>False</td>\n",
       "      <td>...</td>\n",
       "      <td>https://canon.a.bigcontent.io/v1/static/i_sens...</td>\n",
       "      <td>watt</td>\n",
       "      <td>watt</td>\n",
       "      <td>watt</td>\n",
       "      <td>lbs</td>\n",
       "      <td>in</td>\n",
       "      <td>in</td>\n",
       "      <td>in</td>\n",
       "      <td>ppm</td>\n",
       "      <td>ppm</td>\n",
       "    </tr>\n",
       "    <tr>\n",
       "      <th>4212</th>\n",
       "      <td>Brother</td>\n",
       "      <td>MFC-J1205W</td>\n",
       "      <td>BR0887</td>\n",
       "      <td>multifunctionColor</td>\n",
       "      <td>Personal/Small Office/Home Office/Workgroup</td>\n",
       "      <td>B092YXNZT6</td>\n",
       "      <td>Inkjet</td>\n",
       "      <td>United States</td>\n",
       "      <td>1.000000</td>\n",
       "      <td>False</td>\n",
       "      <td>...</td>\n",
       "      <td>https://www.keypointintelligence.com/research/...</td>\n",
       "      <td>watt</td>\n",
       "      <td>watt</td>\n",
       "      <td>watt</td>\n",
       "      <td>lbs</td>\n",
       "      <td>in</td>\n",
       "      <td>in</td>\n",
       "      <td>in</td>\n",
       "      <td>ppm</td>\n",
       "      <td>ppm</td>\n",
       "    </tr>\n",
       "  </tbody>\n",
       "</table>\n",
       "<p>4213 rows × 50 columns</p>\n",
       "</div>"
      ],
      "text/plain": [
       "                 make                       model    guid          deviceType  \\\n",
       "0             Brother                 MFC-J6710DW  BR0092  multifunctionColor   \n",
       "1             Brother                 MFC-9340CDW  BR0096  multifunctionColor   \n",
       "2             Brother                 MFC-9330CDW  BR0101  multifunctionColor   \n",
       "3             Brother                 MFC-J6920DW  BR0104  multifunctionColor   \n",
       "4             Brother                 MFC-9460CDN  BR0107  multifunctionColor   \n",
       "...               ...                         ...     ...                 ...   \n",
       "4208            Xerox                      EC8056  XE1011  multifunctionColor   \n",
       "4209            Xerox              AltaLink C8155  XE0993  multifunctionColor   \n",
       "4210  Hewlett-Packard  Smart Tank 7306 All-in-One  HP3335  multifunctionColor   \n",
       "4211            Canon           i-SENSYS X C1127i  CN1664  multifunctionColor   \n",
       "4212          Brother                  MFC-J1205W  BR0887  multifunctionColor   \n",
       "\n",
       "                                       assetClass productNumber  \\\n",
       "0     Personal/Small Office/Home Office/Workgroup    MFCJ6710DW   \n",
       "1                          Small/Medium Workgroup    MFC9340CDW   \n",
       "2                                       Workgroup    MFC9330CDW   \n",
       "3     Personal/Small Office/Home Office/Workgroup    MFCJ6920DW   \n",
       "4     Personal/Small Office/Home Office/Workgroup    MFC9460CDN   \n",
       "...                                           ...           ...   \n",
       "4208                       Medium/Large Workgroup        EC8056   \n",
       "4209                                    Workgroup       ALC8155   \n",
       "4210                  Individuals/small workgroup        28B76A   \n",
       "4211                                    Workgroup      3101C052   \n",
       "4212  Personal/Small Office/Home Office/Workgroup    B092YXNZT6   \n",
       "\n",
       "     printTechnology         country  currencyRate  econoMode  ...  \\\n",
       "0             Inkjet   United States      1.000000      False  ...   \n",
       "1              Laser   United States      1.000000      False  ...   \n",
       "2              Laser   United States      1.000000      False  ...   \n",
       "3             Inkjet   United States      1.000000      False  ...   \n",
       "4              Laser   United States      1.000000      False  ...   \n",
       "...              ...             ...           ...        ...  ...   \n",
       "4208           Laser   United States      1.000000      False  ...   \n",
       "4209           Laser   United States      1.000000      False  ...   \n",
       "4210          Inkjet     Netherlands      1.141611      False  ...   \n",
       "4211           Laser  United Kingdom      1.303416      False  ...   \n",
       "4212          Inkjet   United States      1.000000      False  ...   \n",
       "\n",
       "                                                    url powerActiveUnit  \\\n",
       "0     https://icecat.us/en_in/p/brother/mfc-j6710dw/...            watt   \n",
       "1     https://www.brother.com.au/brochures/MFC-9340C...            watt   \n",
       "2     https://www.brother.com.au/brochures/MFC-9330C...            watt   \n",
       "3     https://icecat.us/en_in/p/brother/mfc-j6920dw/...            watt   \n",
       "4     https://icecat.us/en_in/p/brother/mfc-9460cdn/...            watt   \n",
       "...                                                 ...             ...   \n",
       "4208  https://www.jtfbus.com/item/24668/xerox-ec8056...            watt   \n",
       "4209  https://www.office.xerox.com/en-us/multifuncti...            watt   \n",
       "4210  https://www.hp.com/ie-en/products/printers/pro...            watt   \n",
       "4211  https://canon.a.bigcontent.io/v1/static/i_sens...            watt   \n",
       "4212  https://www.keypointintelligence.com/research/...            watt   \n",
       "\n",
       "     powerIdleUnit  powerSaveUnit  weightUnit  depthUnit  heightUnit  \\\n",
       "0             watt           watt         lbs         in          in   \n",
       "1             watt           watt         lbs         in          in   \n",
       "2             watt           watt         lbs         in          in   \n",
       "3             watt           watt         lbs         in          in   \n",
       "4             watt           watt         lbs         in          in   \n",
       "...            ...            ...         ...        ...         ...   \n",
       "4208          watt           watt         lbs         in          in   \n",
       "4209          watt           watt         lbs         in          in   \n",
       "4210          watt           watt         lbs         in          in   \n",
       "4211          watt           watt         lbs         in          in   \n",
       "4212          watt           watt         lbs         in          in   \n",
       "\n",
       "      widthUnit speedMonoUnit  speedColorUnit  \n",
       "0            in           ppm             ppm  \n",
       "1            in           ppm             ppm  \n",
       "2            in           ppm             ppm  \n",
       "3            in           ppm             ppm  \n",
       "4            in           ppm             ppm  \n",
       "...         ...           ...             ...  \n",
       "4208         in           ppm             ppm  \n",
       "4209         in           ppm             ppm  \n",
       "4210         in           ppm             ppm  \n",
       "4211         in           ppm             ppm  \n",
       "4212         in           ppm             ppm  \n",
       "\n",
       "[4213 rows x 50 columns]"
      ]
     },
     "execution_count": 2,
     "metadata": {},
     "output_type": "execute_result"
    }
   ],
   "source": [
    "import pandas as pd\n",
    "from sklearn.model_selection import train_test_split\n",
    "from sklearn.linear_model import LinearRegression\n",
    "from sklearn.metrics import r2_score\n",
    "import matplotlib.pyplot as plt\n",
    "%matplotlib inline\n",
    "\n",
    "gsheetid = \"18UDkk2G5EQECcIwiv8hZVmP4XlEoOl9W\"\n",
    "sheet_name = \"Sheet1\"\n",
    "gsheet_url = \"https://docs.google.com/spreadsheets/d/{}/gviz/tq?tqx=out:csv&sheet={}\".format(gsheetid,sheet_name)\n",
    "df=pd.read_csv(gsheet_url)\n",
    "df"
   ]
  },
  {
   "cell_type": "code",
   "execution_count": 4,
   "id": "1b60ffdb",
   "metadata": {},
   "outputs": [
    {
     "data": {
      "text/plain": [
       "50"
      ]
     },
     "execution_count": 4,
     "metadata": {},
     "output_type": "execute_result"
    }
   ],
   "source": [
    "len(df.columns)"
   ]
  },
  {
   "cell_type": "code",
   "execution_count": 36,
   "id": "17a1a324",
   "metadata": {},
   "outputs": [
    {
     "data": {
      "text/plain": [
       "4213"
      ]
     },
     "execution_count": 36,
     "metadata": {},
     "output_type": "execute_result"
    }
   ],
   "source": [
    "len(df)"
   ]
  },
  {
   "cell_type": "code",
   "execution_count": 26,
   "id": "f1c698cc",
   "metadata": {},
   "outputs": [
    {
     "data": {
      "text/plain": [
       "0           0.00\n",
       "1           0.00\n",
       "2           0.00\n",
       "3           0.00\n",
       "4           0.00\n",
       "          ...   \n",
       "4208        0.00\n",
       "4209    26100.00\n",
       "4210        0.00\n",
       "4211        0.00\n",
       "4212      109.99\n",
       "Name: listPrice, Length: 4213, dtype: float64"
      ]
     },
     "execution_count": 26,
     "metadata": {},
     "output_type": "execute_result"
    }
   ],
   "source": [
    "df['listPrice']"
   ]
  },
  {
   "cell_type": "code",
   "execution_count": 27,
   "id": "fe0b1674",
   "metadata": {
    "scrolled": true
   },
   "outputs": [
    {
     "data": {
      "text/plain": [
       "0        1399.00\n",
       "1         450.00\n",
       "2         289.99\n",
       "3         457.35\n",
       "4         600.00\n",
       "          ...   \n",
       "4208     5197.50\n",
       "4209    16949.00\n",
       "4210        0.00\n",
       "4211        0.00\n",
       "4212      158.99\n",
       "Name: streetPrice, Length: 4213, dtype: float64"
      ]
     },
     "execution_count": 27,
     "metadata": {},
     "output_type": "execute_result"
    }
   ],
   "source": [
    "df['streetPrice']"
   ]
  },
  {
   "cell_type": "code",
   "execution_count": null,
   "id": "0a3fd67f",
   "metadata": {},
   "outputs": [],
   "source": [
    "listprice --> manufacturer\n",
    "streetprice --> retailer price\n",
    "\n",
    "\n",
    "when listprice is missing --> streetprice **\n",
    "when listprice is present --> listprice, streetprice **\n",
    "both are missing --> 0, 0 ====> we use built model"
   ]
  },
  {
   "cell_type": "code",
   "execution_count": 3,
   "id": "557162a1",
   "metadata": {},
   "outputs": [
    {
     "data": {
      "text/plain": [
       "0       0.0\n",
       "1       0.0\n",
       "2       0.0\n",
       "3       0.0\n",
       "4       0.0\n",
       "       ... \n",
       "4208    0.0\n",
       "4209    0.0\n",
       "4210    1.0\n",
       "4211    0.0\n",
       "4212    0.0\n",
       "Name: Hewlett-Packard, Length: 4213, dtype: float64"
      ]
     },
     "execution_count": 3,
     "metadata": {},
     "output_type": "execute_result"
    }
   ],
   "source": [
    "df.loc[df['make']=='Hewlett-Packard','Hewlett-Packard']=1\n",
    "df['Hewlett-Packard'].fillna(0,inplace=True)\n",
    "df['Hewlett-Packard']"
   ]
  },
  {
   "cell_type": "code",
   "execution_count": 4,
   "id": "19e59da9",
   "metadata": {},
   "outputs": [
    {
     "data": {
      "text/plain": [
       "0       0.0\n",
       "1       0.0\n",
       "2       0.0\n",
       "3       0.0\n",
       "4       0.0\n",
       "       ... \n",
       "4208    0.0\n",
       "4209    0.0\n",
       "4210    0.0\n",
       "4211    1.0\n",
       "4212    0.0\n",
       "Name: Canon, Length: 4213, dtype: float64"
      ]
     },
     "execution_count": 4,
     "metadata": {},
     "output_type": "execute_result"
    }
   ],
   "source": [
    "df.loc[df['make']=='Canon','Canon']=1\n",
    "df['Canon'].fillna(0,inplace=True)\n",
    "df['Canon']"
   ]
  },
  {
   "cell_type": "code",
   "execution_count": 5,
   "id": "04559aa2",
   "metadata": {},
   "outputs": [
    {
     "data": {
      "text/plain": [
       "0       0.0\n",
       "1       0.0\n",
       "2       0.0\n",
       "3       0.0\n",
       "4       0.0\n",
       "       ... \n",
       "4208    0.0\n",
       "4209    0.0\n",
       "4210    0.0\n",
       "4211    0.0\n",
       "4212    0.0\n",
       "Name: Epson, Length: 4213, dtype: float64"
      ]
     },
     "execution_count": 5,
     "metadata": {},
     "output_type": "execute_result"
    }
   ],
   "source": [
    "df.loc[df['make']=='Epson','Epson']=1\n",
    "df['Epson'].fillna(0,inplace=True)\n",
    "df['Epson']"
   ]
  },
  {
   "cell_type": "code",
   "execution_count": 6,
   "id": "b5bd0dd8",
   "metadata": {},
   "outputs": [
    {
     "data": {
      "text/plain": [
       "0       0.0\n",
       "1       0.0\n",
       "2       0.0\n",
       "3       0.0\n",
       "4       0.0\n",
       "       ... \n",
       "4208    0.0\n",
       "4209    0.0\n",
       "4210    0.0\n",
       "4211    0.0\n",
       "4212    0.0\n",
       "Name: Lexmark, Length: 4213, dtype: float64"
      ]
     },
     "execution_count": 6,
     "metadata": {},
     "output_type": "execute_result"
    }
   ],
   "source": [
    "df.loc[df['make']=='Lexmark','Lexmark']=1\n",
    "df['Lexmark'].fillna(0,inplace=True)\n",
    "df['Lexmark']"
   ]
  },
  {
   "cell_type": "code",
   "execution_count": 7,
   "id": "8c4d0f51",
   "metadata": {},
   "outputs": [
    {
     "data": {
      "text/plain": [
       "0       1.0\n",
       "1       1.0\n",
       "2       1.0\n",
       "3       1.0\n",
       "4       1.0\n",
       "       ... \n",
       "4208    0.0\n",
       "4209    0.0\n",
       "4210    0.0\n",
       "4211    0.0\n",
       "4212    1.0\n",
       "Name: Brother, Length: 4213, dtype: float64"
      ]
     },
     "execution_count": 7,
     "metadata": {},
     "output_type": "execute_result"
    }
   ],
   "source": [
    "df.loc[df['make']=='Brother','Brother']=1\n",
    "df['Brother'].fillna(0,inplace=True)\n",
    "df['Brother']"
   ]
  },
  {
   "cell_type": "code",
   "execution_count": 8,
   "id": "ae9076d1",
   "metadata": {},
   "outputs": [
    {
     "data": {
      "text/plain": [
       "0       0.0\n",
       "1       0.0\n",
       "2       0.0\n",
       "3       0.0\n",
       "4       0.0\n",
       "       ... \n",
       "4208    1.0\n",
       "4209    1.0\n",
       "4210    0.0\n",
       "4211    0.0\n",
       "4212    0.0\n",
       "Name: Xerox, Length: 4213, dtype: float64"
      ]
     },
     "execution_count": 8,
     "metadata": {},
     "output_type": "execute_result"
    }
   ],
   "source": [
    "df.loc[df['make']=='Xerox','Xerox']=1\n",
    "df['Xerox'].fillna(0,inplace=True)\n",
    "df['Xerox']"
   ]
  },
  {
   "cell_type": "code",
   "execution_count": 9,
   "id": "bf4eb323",
   "metadata": {},
   "outputs": [
    {
     "data": {
      "text/plain": [
       "0       0.0\n",
       "1       0.0\n",
       "2       0.0\n",
       "3       0.0\n",
       "4       0.0\n",
       "       ... \n",
       "4208    0.0\n",
       "4209    0.0\n",
       "4210    0.0\n",
       "4211    0.0\n",
       "4212    0.0\n",
       "Name: Ricoh, Length: 4213, dtype: float64"
      ]
     },
     "execution_count": 9,
     "metadata": {},
     "output_type": "execute_result"
    }
   ],
   "source": [
    "df.loc[df['make']=='Ricoh','Ricoh']=1\n",
    "df['Ricoh'].fillna(0,inplace=True)\n",
    "df['Ricoh']"
   ]
  },
  {
   "cell_type": "code",
   "execution_count": 10,
   "id": "56fb14c8",
   "metadata": {},
   "outputs": [
    {
     "data": {
      "text/plain": [
       "0       0.0\n",
       "1       0.0\n",
       "2       0.0\n",
       "3       0.0\n",
       "4       0.0\n",
       "       ... \n",
       "4208    0.0\n",
       "4209    0.0\n",
       "4210    0.0\n",
       "4211    0.0\n",
       "4212    0.0\n",
       "Name: Sharp, Length: 4213, dtype: float64"
      ]
     },
     "execution_count": 10,
     "metadata": {},
     "output_type": "execute_result"
    }
   ],
   "source": [
    "df.loc[df['make']=='Sharp','Sharp']=1\n",
    "df['Sharp'].fillna(0,inplace=True)\n",
    "df['Sharp']"
   ]
  },
  {
   "cell_type": "code",
   "execution_count": 11,
   "id": "91758635",
   "metadata": {},
   "outputs": [
    {
     "data": {
      "text/plain": [
       "0       0.0\n",
       "1       0.0\n",
       "2       0.0\n",
       "3       0.0\n",
       "4       0.0\n",
       "       ... \n",
       "4208    0.0\n",
       "4209    0.0\n",
       "4210    0.0\n",
       "4211    0.0\n",
       "4212    0.0\n",
       "Name: Lanier, Length: 4213, dtype: float64"
      ]
     },
     "execution_count": 11,
     "metadata": {},
     "output_type": "execute_result"
    }
   ],
   "source": [
    "df.loc[df['make']=='Lanier','Lanier']=1\n",
    "df['Lanier'].fillna(0,inplace=True)\n",
    "df['Lanier']"
   ]
  },
  {
   "cell_type": "code",
   "execution_count": 12,
   "id": "9ad642d9",
   "metadata": {},
   "outputs": [
    {
     "data": {
      "text/plain": [
       "0       0.0\n",
       "1       0.0\n",
       "2       0.0\n",
       "3       0.0\n",
       "4       0.0\n",
       "       ... \n",
       "4208    0.0\n",
       "4209    0.0\n",
       "4210    0.0\n",
       "4211    0.0\n",
       "4212    0.0\n",
       "Name: Oki, Length: 4213, dtype: float64"
      ]
     },
     "execution_count": 12,
     "metadata": {},
     "output_type": "execute_result"
    }
   ],
   "source": [
    "df.loc[df['make']=='Oki','Oki']=1\n",
    "df['Oki'].fillna(0,inplace=True)\n",
    "df['Oki']"
   ]
  },
  {
   "cell_type": "code",
   "execution_count": 13,
   "id": "b9227ef5",
   "metadata": {},
   "outputs": [
    {
     "data": {
      "text/plain": [
       "0       0.0\n",
       "1       0.0\n",
       "2       0.0\n",
       "3       0.0\n",
       "4       0.0\n",
       "       ... \n",
       "4208    0.0\n",
       "4209    0.0\n",
       "4210    0.0\n",
       "4211    0.0\n",
       "4212    0.0\n",
       "Name: Konica Minolta, Length: 4213, dtype: float64"
      ]
     },
     "execution_count": 13,
     "metadata": {},
     "output_type": "execute_result"
    }
   ],
   "source": [
    "df.loc[df['make']=='Konica Minolta','Konica Minolta']=1\n",
    "df['Konica Minolta'].fillna(0,inplace=True)\n",
    "df['Konica Minolta']"
   ]
  },
  {
   "cell_type": "code",
   "execution_count": 14,
   "id": "0bbc56a5",
   "metadata": {},
   "outputs": [
    {
     "data": {
      "text/plain": [
       "0       0.0\n",
       "1       0.0\n",
       "2       0.0\n",
       "3       0.0\n",
       "4       0.0\n",
       "       ... \n",
       "4208    0.0\n",
       "4209    0.0\n",
       "4210    0.0\n",
       "4211    0.0\n",
       "4212    0.0\n",
       "Name: Toshiba, Length: 4213, dtype: float64"
      ]
     },
     "execution_count": 14,
     "metadata": {},
     "output_type": "execute_result"
    }
   ],
   "source": [
    "df.loc[df['make']=='Toshiba','Toshiba']=1\n",
    "df['Toshiba'].fillna(0,inplace=True)\n",
    "df['Toshiba']"
   ]
  },
  {
   "cell_type": "code",
   "execution_count": 15,
   "id": "cc1a65e3",
   "metadata": {},
   "outputs": [
    {
     "data": {
      "text/plain": [
       "0       0.0\n",
       "1       0.0\n",
       "2       0.0\n",
       "3       0.0\n",
       "4       0.0\n",
       "       ... \n",
       "4208    0.0\n",
       "4209    0.0\n",
       "4210    0.0\n",
       "4211    0.0\n",
       "4212    0.0\n",
       "Name: Others Make, Length: 4213, dtype: float64"
      ]
     },
     "execution_count": 15,
     "metadata": {},
     "output_type": "execute_result"
    }
   ],
   "source": [
    "df['make']=df['make'].replace(['Kyocera Mita','Samsung','Fuji Xerox','Copystar','Dell','Kodak','others','Gestetner','Muratec','Riso','Oce','Panasonic','Fujifilm','IBM','UTAX','NEC','Pantum','Olivetti','Primera','Intec','Develop'],'others')\n",
    "df.loc[df['make']=='others','Others Make']=1\n",
    "df['Others Make'].fillna(0,inplace=True)\n",
    "df['Others Make']"
   ]
  },
  {
   "cell_type": "code",
   "execution_count": 137,
   "id": "69f68766",
   "metadata": {},
   "outputs": [
    {
     "data": {
      "text/plain": [
       "Hewlett-Packard    1333\n",
       "Canon               557\n",
       "others              521\n",
       "Epson               262\n",
       "Lexmark             237\n",
       "Brother             208\n",
       "Xerox               193\n",
       "Ricoh               175\n",
       "Sharp               137\n",
       "Lanier              135\n",
       "Oki                 120\n",
       "Konica Minolta      114\n",
       "Toshiba             112\n",
       "Savin               109\n",
       "Name: make, dtype: int64"
      ]
     },
     "execution_count": 137,
     "metadata": {},
     "output_type": "execute_result"
    }
   ],
   "source": [
    "freq = df['make'].value_counts()\n",
    "freq"
   ]
  },
  {
   "cell_type": "code",
   "execution_count": 21,
   "id": "441df4c3",
   "metadata": {},
   "outputs": [
    {
     "data": {
      "text/plain": [
       "Pro C5210s                        3\n",
       "Smart Tank 675 All-in-One         2\n",
       "5008ci                            2\n",
       "imageRUNNER ADVANCE C356iF III    2\n",
       "Versant 80 Press                  2\n",
       "                                 ..\n",
       "Deskjet F2492 All-in-One          1\n",
       "Deskjet F2493 All-in-One          1\n",
       "Deskjet F310                      1\n",
       "Deskjet F325                      1\n",
       "MFC-J1205W                        1\n",
       "Name: model, Length: 4192, dtype: int64"
      ]
     },
     "execution_count": 21,
     "metadata": {},
     "output_type": "execute_result"
    }
   ],
   "source": [
    "freq = df['model'].value_counts()\n",
    "freq"
   ]
  },
  {
   "cell_type": "code",
   "execution_count": 22,
   "id": "9c5dae21",
   "metadata": {},
   "outputs": [
    {
     "data": {
      "text/plain": [
       "CN1583    2\n",
       "LM0948    2\n",
       "LM0947    2\n",
       "CN1592    2\n",
       "CN1591    2\n",
       "         ..\n",
       "HP1244    1\n",
       "HP1245    1\n",
       "HP1246    1\n",
       "HP1247    1\n",
       "BR0887    1\n",
       "Name: guid, Length: 4204, dtype: int64"
      ]
     },
     "execution_count": 22,
     "metadata": {},
     "output_type": "execute_result"
    }
   ],
   "source": [
    "freq = df['guid'].value_counts()\n",
    "freq"
   ]
  },
  {
   "cell_type": "code",
   "execution_count": 23,
   "id": "b60de5f1",
   "metadata": {},
   "outputs": [
    {
     "data": {
      "text/plain": [
       "multifunctionColor    4213\n",
       "Name: deviceType, dtype: int64"
      ]
     },
     "execution_count": 23,
     "metadata": {},
     "output_type": "execute_result"
    }
   ],
   "source": [
    "freq = df['deviceType'].value_counts()\n",
    "freq"
   ]
  },
  {
   "cell_type": "code",
   "execution_count": 141,
   "id": "b271998a",
   "metadata": {},
   "outputs": [
    {
     "data": {
      "text/plain": [
       "Workgroup                                      2389\n",
       "Personal/Small Office/Home Office/Workgroup    1191\n",
       "others                                          251\n",
       "Medium/Large Workgroup                          223\n",
       "Small/Medium Workgroup                          159\n",
       "Name: assetClass, dtype: int64"
      ]
     },
     "execution_count": 141,
     "metadata": {},
     "output_type": "execute_result"
    }
   ],
   "source": [
    "freq = df['assetClass'].value_counts()\n",
    "freq"
   ]
  },
  {
   "cell_type": "code",
   "execution_count": 16,
   "id": "a3ceeae9",
   "metadata": {},
   "outputs": [
    {
     "data": {
      "text/plain": [
       "0       0.0\n",
       "1       0.0\n",
       "2       1.0\n",
       "3       0.0\n",
       "4       0.0\n",
       "       ... \n",
       "4208    0.0\n",
       "4209    1.0\n",
       "4210    0.0\n",
       "4211    1.0\n",
       "4212    0.0\n",
       "Name: Workgroup, Length: 4213, dtype: float64"
      ]
     },
     "execution_count": 16,
     "metadata": {},
     "output_type": "execute_result"
    }
   ],
   "source": [
    "df.loc[df['assetClass']=='Workgroup','Workgroup']=1\n",
    "df['Workgroup'].fillna(0,inplace=True)\n",
    "df['Workgroup']"
   ]
  },
  {
   "cell_type": "code",
   "execution_count": 17,
   "id": "39bee477",
   "metadata": {},
   "outputs": [
    {
     "data": {
      "text/plain": [
       "0       1.0\n",
       "1       0.0\n",
       "2       0.0\n",
       "3       1.0\n",
       "4       1.0\n",
       "       ... \n",
       "4208    0.0\n",
       "4209    0.0\n",
       "4210    0.0\n",
       "4211    0.0\n",
       "4212    1.0\n",
       "Name: PerSHW, Length: 4213, dtype: float64"
      ]
     },
     "execution_count": 17,
     "metadata": {},
     "output_type": "execute_result"
    }
   ],
   "source": [
    "df.loc[df['assetClass']=='Personal/Small Office/Home Office/Workgroup','PerSHW']=1\n",
    "df['PerSHW'].fillna(0,inplace=True)\n",
    "df['PerSHW']"
   ]
  },
  {
   "cell_type": "code",
   "execution_count": 18,
   "id": "0aa3d96d",
   "metadata": {},
   "outputs": [
    {
     "data": {
      "text/plain": [
       "0       0.0\n",
       "1       0.0\n",
       "2       0.0\n",
       "3       0.0\n",
       "4       0.0\n",
       "       ... \n",
       "4208    1.0\n",
       "4209    0.0\n",
       "4210    0.0\n",
       "4211    0.0\n",
       "4212    0.0\n",
       "Name: ML_Workgroup, Length: 4213, dtype: float64"
      ]
     },
     "execution_count": 18,
     "metadata": {},
     "output_type": "execute_result"
    }
   ],
   "source": [
    "df.loc[df['assetClass']=='Medium/Large Workgroup','ML_Workgroup']=1\n",
    "df['ML_Workgroup'].fillna(0,inplace=True)\n",
    "df['ML_Workgroup']"
   ]
  },
  {
   "cell_type": "code",
   "execution_count": 19,
   "id": "397b684f",
   "metadata": {},
   "outputs": [
    {
     "data": {
      "text/plain": [
       "0       0.0\n",
       "1       0.0\n",
       "2       0.0\n",
       "3       0.0\n",
       "4       0.0\n",
       "       ... \n",
       "4208    0.0\n",
       "4209    0.0\n",
       "4210    1.0\n",
       "4211    0.0\n",
       "4212    0.0\n",
       "Name: Others aClass, Length: 4213, dtype: float64"
      ]
     },
     "execution_count": 19,
     "metadata": {},
     "output_type": "execute_result"
    }
   ],
   "source": [
    "df['assetClass']=df['assetClass'].replace(['Large Format Printer','Enterprise/Individual/Industrial/Large workgroup','Enterprise/Press Printer','Large Workgroup','Individuals/small workgroup','Business','Production Printer/Digital Press','workgroup'],'others')\n",
    "df.loc[df['assetClass']=='others','Others aClass']=1\n",
    "df['Others aClass'].fillna(0,inplace=True)\n",
    "df['Others aClass']"
   ]
  },
  {
   "cell_type": "code",
   "execution_count": 28,
   "id": "07193939",
   "metadata": {},
   "outputs": [
    {
     "data": {
      "text/plain": [
       "Laser     2153\n",
       "Inkjet    2060\n",
       "Name: printTechnology, dtype: int64"
      ]
     },
     "execution_count": 28,
     "metadata": {},
     "output_type": "execute_result"
    }
   ],
   "source": [
    "freq = df['printTechnology'].value_counts()\n",
    "freq"
   ]
  },
  {
   "cell_type": "code",
   "execution_count": 20,
   "id": "d8249069",
   "metadata": {},
   "outputs": [
    {
     "data": {
      "text/plain": [
       "0       0.0\n",
       "1       1.0\n",
       "2       1.0\n",
       "3       0.0\n",
       "4       1.0\n",
       "       ... \n",
       "4208    1.0\n",
       "4209    1.0\n",
       "4210    0.0\n",
       "4211    1.0\n",
       "4212    0.0\n",
       "Name: Laser, Length: 4213, dtype: float64"
      ]
     },
     "execution_count": 20,
     "metadata": {},
     "output_type": "execute_result"
    }
   ],
   "source": [
    "df.loc[df['printTechnology']=='Laser','Laser']=1\n",
    "df['Laser'].fillna(0,inplace=True)\n",
    "df['Laser']"
   ]
  },
  {
   "cell_type": "code",
   "execution_count": 21,
   "id": "51aadbab",
   "metadata": {
    "scrolled": true
   },
   "outputs": [
    {
     "data": {
      "text/plain": [
       "0       0.0\n",
       "1       0.0\n",
       "2       0.0\n",
       "3       0.0\n",
       "4       0.0\n",
       "       ... \n",
       "4208    0.0\n",
       "4209    0.0\n",
       "4210    1.0\n",
       "4211    0.0\n",
       "4212    0.0\n",
       "Name: Others Country, Length: 4213, dtype: float64"
      ]
     },
     "execution_count": 21,
     "metadata": {},
     "output_type": "execute_result"
    }
   ],
   "source": [
    "df['country']=df['country'].replace(['Japan','Germany','Singapore','Hong Kong','Egypt','South Africa','Canada','Thailand','Malaysia','New Zealand','United Arab Emirates','France','Philippines','Indonesia','Brazil','China','Ireland','Nigeria','Netherlands'],'others')\n",
    "df.loc[df['country']=='others','Others Country']=1\n",
    "df['Others Country'].fillna(0,inplace=True)\n",
    "df['Others Country']"
   ]
  },
  {
   "cell_type": "code",
   "execution_count": 31,
   "id": "cab40a7d",
   "metadata": {},
   "outputs": [
    {
     "data": {
      "text/plain": [
       "United States     3719\n",
       "United Kingdom     194\n",
       "others             129\n",
       "India               98\n",
       "Australia           73\n",
       "Name: country, dtype: int64"
      ]
     },
     "execution_count": 31,
     "metadata": {},
     "output_type": "execute_result"
    }
   ],
   "source": [
    "freq = df['country'].value_counts()\n",
    "freq"
   ]
  },
  {
   "cell_type": "code",
   "execution_count": 22,
   "id": "e56c554e",
   "metadata": {},
   "outputs": [
    {
     "data": {
      "text/plain": [
       "0       1.0\n",
       "1       1.0\n",
       "2       1.0\n",
       "3       1.0\n",
       "4       1.0\n",
       "       ... \n",
       "4208    1.0\n",
       "4209    1.0\n",
       "4210    0.0\n",
       "4211    0.0\n",
       "4212    1.0\n",
       "Name: US, Length: 4213, dtype: float64"
      ]
     },
     "execution_count": 22,
     "metadata": {},
     "output_type": "execute_result"
    }
   ],
   "source": [
    "df.loc[df['country']=='United States','US']=1\n",
    "df['US'].fillna(0,inplace=True)\n",
    "df['US']"
   ]
  },
  {
   "cell_type": "code",
   "execution_count": 23,
   "id": "18446364",
   "metadata": {},
   "outputs": [
    {
     "data": {
      "text/plain": [
       "0       0.0\n",
       "1       0.0\n",
       "2       0.0\n",
       "3       0.0\n",
       "4       0.0\n",
       "       ... \n",
       "4208    0.0\n",
       "4209    0.0\n",
       "4210    0.0\n",
       "4211    1.0\n",
       "4212    0.0\n",
       "Name: UK, Length: 4213, dtype: float64"
      ]
     },
     "execution_count": 23,
     "metadata": {},
     "output_type": "execute_result"
    }
   ],
   "source": [
    "df.loc[df['country']=='United Kingdom','UK']=1\n",
    "df['UK'].fillna(0,inplace=True)\n",
    "df['UK']"
   ]
  },
  {
   "cell_type": "code",
   "execution_count": 24,
   "id": "1394ac52",
   "metadata": {},
   "outputs": [
    {
     "data": {
      "text/plain": [
       "0       0.0\n",
       "1       0.0\n",
       "2       0.0\n",
       "3       0.0\n",
       "4       0.0\n",
       "       ... \n",
       "4208    0.0\n",
       "4209    0.0\n",
       "4210    0.0\n",
       "4211    0.0\n",
       "4212    0.0\n",
       "Name: India, Length: 4213, dtype: float64"
      ]
     },
     "execution_count": 24,
     "metadata": {},
     "output_type": "execute_result"
    }
   ],
   "source": [
    "df.loc[df['country']=='India','India']=1\n",
    "df['India'].fillna(0,inplace=True)\n",
    "df['India']"
   ]
  },
  {
   "cell_type": "code",
   "execution_count": 35,
   "id": "a5813aca",
   "metadata": {},
   "outputs": [
    {
     "data": {
      "text/plain": [
       "False    4195\n",
       "True       18\n",
       "Name: econoMode, dtype: int64"
      ]
     },
     "execution_count": 35,
     "metadata": {},
     "output_type": "execute_result"
    }
   ],
   "source": [
    "freq = df['econoMode'].value_counts()\n",
    "freq"
   ]
  },
  {
   "cell_type": "code",
   "execution_count": 25,
   "id": "6f220f1f",
   "metadata": {},
   "outputs": [
    {
     "data": {
      "text/plain": [
       "0       1.0\n",
       "1       1.0\n",
       "2       1.0\n",
       "3       1.0\n",
       "4       1.0\n",
       "       ... \n",
       "4208    1.0\n",
       "4209    1.0\n",
       "4210    1.0\n",
       "4211    1.0\n",
       "4212    1.0\n",
       "Name: Economode, Length: 4213, dtype: float64"
      ]
     },
     "execution_count": 25,
     "metadata": {},
     "output_type": "execute_result"
    }
   ],
   "source": [
    "df.loc[df['econoMode']==False,'Economode']=1\n",
    "df['Economode'].fillna(0,inplace=True)\n",
    "df['Economode']"
   ]
  },
  {
   "cell_type": "code",
   "execution_count": 44,
   "id": "dec3458e",
   "metadata": {},
   "outputs": [
    {
     "data": {
      "text/plain": [
       "MFCJ6710DW    1\n",
       "17M0800       1\n",
       "3001385       1\n",
       "10D1769       1\n",
       "17M0000       1\n",
       "             ..\n",
       "Q8139A        1\n",
       "Q8136A        1\n",
       "Q8140A        1\n",
       "Q8145A#ABA    1\n",
       "B092YXNZT6    1\n",
       "Name: productNumber, Length: 4213, dtype: int64"
      ]
     },
     "execution_count": 44,
     "metadata": {},
     "output_type": "execute_result"
    }
   ],
   "source": [
    "freq = df['productNumber'].value_counts()\n",
    "freq"
   ]
  },
  {
   "cell_type": "code",
   "execution_count": 37,
   "id": "176be09f",
   "metadata": {},
   "outputs": [
    {
     "data": {
      "text/plain": [
       "True        2747\n",
       "False       1435\n",
       "Optional      31\n",
       "Name: connNetwork, dtype: int64"
      ]
     },
     "execution_count": 37,
     "metadata": {},
     "output_type": "execute_result"
    }
   ],
   "source": [
    "freq = df['connNetwork'].value_counts()\n",
    "freq"
   ]
  },
  {
   "cell_type": "code",
   "execution_count": 26,
   "id": "e5fb4ac5",
   "metadata": {},
   "outputs": [
    {
     "data": {
      "text/plain": [
       "0       1.0\n",
       "1       1.0\n",
       "2       1.0\n",
       "3       1.0\n",
       "4       1.0\n",
       "       ... \n",
       "4208    1.0\n",
       "4209    1.0\n",
       "4210    1.0\n",
       "4211    1.0\n",
       "4212    0.0\n",
       "Name: Connnetwork, Length: 4213, dtype: float64"
      ]
     },
     "execution_count": 26,
     "metadata": {},
     "output_type": "execute_result"
    }
   ],
   "source": [
    "df.loc[df['connNetwork']=='True','Connnetwork']=1\n",
    "df['Connnetwork'].fillna(0,inplace=True)\n",
    "df['Connnetwork']"
   ]
  },
  {
   "cell_type": "code",
   "execution_count": 27,
   "id": "b540180b",
   "metadata": {},
   "outputs": [
    {
     "data": {
      "text/plain": [
       "0       0.0\n",
       "1       0.0\n",
       "2       0.0\n",
       "3       0.0\n",
       "4       0.0\n",
       "       ... \n",
       "4208    0.0\n",
       "4209    0.0\n",
       "4210    0.0\n",
       "4211    0.0\n",
       "4212    1.0\n",
       "Name: Not_Connnetwork, Length: 4213, dtype: float64"
      ]
     },
     "execution_count": 27,
     "metadata": {},
     "output_type": "execute_result"
    }
   ],
   "source": [
    "df.loc[df['connNetwork']=='False','Not_Connnetwork']=1\n",
    "df['Not_Connnetwork'].fillna(0,inplace=True)\n",
    "df['Not_Connnetwork']"
   ]
  },
  {
   "cell_type": "code",
   "execution_count": 40,
   "id": "5462d062",
   "metadata": {},
   "outputs": [
    {
     "data": {
      "text/plain": [
       "True        3966\n",
       "False        219\n",
       "Optional      28\n",
       "Name: connLocal, dtype: int64"
      ]
     },
     "execution_count": 40,
     "metadata": {},
     "output_type": "execute_result"
    }
   ],
   "source": [
    "freq = df['connLocal'].value_counts()\n",
    "freq"
   ]
  },
  {
   "cell_type": "code",
   "execution_count": 28,
   "id": "201a30ce",
   "metadata": {},
   "outputs": [
    {
     "data": {
      "text/plain": [
       "0       1.0\n",
       "1       1.0\n",
       "2       1.0\n",
       "3       1.0\n",
       "4       1.0\n",
       "       ... \n",
       "4208    1.0\n",
       "4209    1.0\n",
       "4210    1.0\n",
       "4211    1.0\n",
       "4212    1.0\n",
       "Name: Connlocal, Length: 4213, dtype: float64"
      ]
     },
     "execution_count": 28,
     "metadata": {},
     "output_type": "execute_result"
    }
   ],
   "source": [
    "df.loc[df['connLocal']=='True','Connlocal']=1\n",
    "df['Connlocal'].fillna(0,inplace=True)\n",
    "df['Connlocal']"
   ]
  },
  {
   "cell_type": "code",
   "execution_count": 29,
   "id": "a5e81ff3",
   "metadata": {},
   "outputs": [
    {
     "data": {
      "text/plain": [
       "0       0.0\n",
       "1       0.0\n",
       "2       0.0\n",
       "3       0.0\n",
       "4       0.0\n",
       "       ... \n",
       "4208    0.0\n",
       "4209    0.0\n",
       "4210    0.0\n",
       "4211    0.0\n",
       "4212    0.0\n",
       "Name: Not_Connlocal, Length: 4213, dtype: float64"
      ]
     },
     "execution_count": 29,
     "metadata": {},
     "output_type": "execute_result"
    }
   ],
   "source": [
    "df.loc[df['connLocal']=='False','Not_Connlocal']=1\n",
    "df['Not_Connlocal'].fillna(0,inplace=True)\n",
    "df['Not_Connlocal']"
   ]
  },
  {
   "cell_type": "code",
   "execution_count": 43,
   "id": "c9b95974",
   "metadata": {},
   "outputs": [
    {
     "data": {
      "text/plain": [
       "False       1913\n",
       "True        1784\n",
       "Optional     516\n",
       "Name: hasWifi, dtype: int64"
      ]
     },
     "execution_count": 43,
     "metadata": {},
     "output_type": "execute_result"
    }
   ],
   "source": [
    "freq = df['hasWifi'].value_counts()\n",
    "freq"
   ]
  },
  {
   "cell_type": "code",
   "execution_count": 30,
   "id": "322d2770",
   "metadata": {},
   "outputs": [
    {
     "data": {
      "text/plain": [
       "0       1.0\n",
       "1       1.0\n",
       "2       1.0\n",
       "3       1.0\n",
       "4       0.0\n",
       "       ... \n",
       "4208    0.0\n",
       "4209    1.0\n",
       "4210    1.0\n",
       "4211    1.0\n",
       "4212    1.0\n",
       "Name: HasWifi, Length: 4213, dtype: float64"
      ]
     },
     "execution_count": 30,
     "metadata": {},
     "output_type": "execute_result"
    }
   ],
   "source": [
    "df.loc[df['hasWifi']=='True','HasWifi']=1\n",
    "df['HasWifi'].fillna(0,inplace=True)\n",
    "df['HasWifi']"
   ]
  },
  {
   "cell_type": "code",
   "execution_count": 31,
   "id": "6eb7eb89",
   "metadata": {},
   "outputs": [
    {
     "data": {
      "text/plain": [
       "0       0.0\n",
       "1       0.0\n",
       "2       0.0\n",
       "3       0.0\n",
       "4       1.0\n",
       "       ... \n",
       "4208    1.0\n",
       "4209    0.0\n",
       "4210    0.0\n",
       "4211    0.0\n",
       "4212    0.0\n",
       "Name: Not_HasWifi, Length: 4213, dtype: float64"
      ]
     },
     "execution_count": 31,
     "metadata": {},
     "output_type": "execute_result"
    }
   ],
   "source": [
    "df.loc[df['hasWifi']=='False','Not_HasWifi']=1\n",
    "df['Not_HasWifi'].fillna(0,inplace=True)\n",
    "df['Not_HasWifi']"
   ]
  },
  {
   "cell_type": "code",
   "execution_count": 46,
   "id": "7044bc8f",
   "metadata": {},
   "outputs": [
    {
     "data": {
      "text/plain": [
       "Print speed (black, normal quality, A4 Per US Letter)       394\n",
       "Print Speed Black                                           351\n",
       "Print Speed (A4)Mono                                        254\n",
       "Print speed black                                           180\n",
       "Print speed (black, normal quality, A4 Per US Letter)Â *    127\n",
       "                                                           ... \n",
       "Print speed (black, draft, A4 Per US Letter)                  1\n",
       "up to20ppm                                                    1\n",
       "up to 23ppm                                                   1\n",
       "After first page, up to 26 pages per minute, Black            1\n",
       "Black ISO-Based Max Print Speed ‡ (ppm)\\t16                   1\n",
       "Name: monoPPMNotes, Length: 772, dtype: int64"
      ]
     },
     "execution_count": 46,
     "metadata": {},
     "output_type": "execute_result"
    }
   ],
   "source": [
    "freq=df['monoPPMNotes'].value_counts()\n",
    "freq"
   ]
  },
  {
   "cell_type": "code",
   "execution_count": 47,
   "id": "0644c3ff",
   "metadata": {},
   "outputs": [
    {
     "data": {
      "text/plain": [
       "False    2680\n",
       "True     1533\n",
       "Name: hasA3, dtype: int64"
      ]
     },
     "execution_count": 47,
     "metadata": {},
     "output_type": "execute_result"
    }
   ],
   "source": [
    "freq = df['hasA3'].value_counts()\n",
    "freq"
   ]
  },
  {
   "cell_type": "code",
   "execution_count": 32,
   "id": "70968f64",
   "metadata": {},
   "outputs": [
    {
     "data": {
      "text/plain": [
       "0       0.0\n",
       "1       1.0\n",
       "2       1.0\n",
       "3       0.0\n",
       "4       1.0\n",
       "       ... \n",
       "4208    0.0\n",
       "4209    0.0\n",
       "4210    1.0\n",
       "4211    1.0\n",
       "4212    1.0\n",
       "Name: Not_HasA3, Length: 4213, dtype: float64"
      ]
     },
     "execution_count": 32,
     "metadata": {},
     "output_type": "execute_result"
    }
   ],
   "source": [
    "df.loc[df['hasA3']==False,'Not_HasA3']=1\n",
    "df['Not_HasA3'].fillna(0,inplace=True)\n",
    "df['Not_HasA3']"
   ]
  },
  {
   "cell_type": "code",
   "execution_count": 49,
   "id": "7d631020",
   "metadata": {},
   "outputs": [
    {
     "data": {
      "text/plain": [
       "True     4210\n",
       "False       3\n",
       "Name: hasA4, dtype: int64"
      ]
     },
     "execution_count": 49,
     "metadata": {},
     "output_type": "execute_result"
    }
   ],
   "source": [
    "freq = df['hasA4'].value_counts()\n",
    "freq"
   ]
  },
  {
   "cell_type": "code",
   "execution_count": 33,
   "id": "542760b8",
   "metadata": {},
   "outputs": [
    {
     "data": {
      "text/plain": [
       "0       1.0\n",
       "1       1.0\n",
       "2       1.0\n",
       "3       1.0\n",
       "4       1.0\n",
       "       ... \n",
       "4208    1.0\n",
       "4209    1.0\n",
       "4210    1.0\n",
       "4211    1.0\n",
       "4212    1.0\n",
       "Name: HasA4, Length: 4213, dtype: float64"
      ]
     },
     "execution_count": 33,
     "metadata": {},
     "output_type": "execute_result"
    }
   ],
   "source": [
    "df.loc[df['hasA4']==True,'HasA4']=1\n",
    "df['HasA4'].fillna(0,inplace=True)\n",
    "df['HasA4']"
   ]
  },
  {
   "cell_type": "code",
   "execution_count": 51,
   "id": "50c064b1",
   "metadata": {},
   "outputs": [
    {
     "data": {
      "text/plain": [
       "False    3023\n",
       "True     1190\n",
       "Name: hasA5, dtype: int64"
      ]
     },
     "execution_count": 51,
     "metadata": {},
     "output_type": "execute_result"
    }
   ],
   "source": [
    "freq = df['hasA5'].value_counts()\n",
    "freq"
   ]
  },
  {
   "cell_type": "code",
   "execution_count": 34,
   "id": "09713172",
   "metadata": {},
   "outputs": [
    {
     "data": {
      "text/plain": [
       "0       0.0\n",
       "1       0.0\n",
       "2       0.0\n",
       "3       0.0\n",
       "4       0.0\n",
       "       ... \n",
       "4208    0.0\n",
       "4209    0.0\n",
       "4210    0.0\n",
       "4211    0.0\n",
       "4212    0.0\n",
       "Name: Not_HasA5, Length: 4213, dtype: float64"
      ]
     },
     "execution_count": 34,
     "metadata": {},
     "output_type": "execute_result"
    }
   ],
   "source": [
    "df.loc[df['hasA5']=='False','Not_HasA5']=1\n",
    "df['Not_HasA5'].fillna(0,inplace=True)\n",
    "df['Not_HasA5']"
   ]
  },
  {
   "cell_type": "code",
   "execution_count": 53,
   "id": "e3602d00",
   "metadata": {},
   "outputs": [
    {
     "data": {
      "text/plain": [
       "True    4213\n",
       "Name: hasColor, dtype: int64"
      ]
     },
     "execution_count": 53,
     "metadata": {},
     "output_type": "execute_result"
    }
   ],
   "source": [
    "freq = df['hasColor'].value_counts()\n",
    "freq"
   ]
  },
  {
   "cell_type": "code",
   "execution_count": 54,
   "id": "7c642a1a",
   "metadata": {},
   "outputs": [
    {
     "data": {
      "text/plain": [
       "True        2747\n",
       "False       1213\n",
       "Optional     253\n",
       "Name: hasDuplex, dtype: int64"
      ]
     },
     "execution_count": 54,
     "metadata": {},
     "output_type": "execute_result"
    }
   ],
   "source": [
    "freq = df['hasDuplex'].value_counts()\n",
    "freq"
   ]
  },
  {
   "cell_type": "code",
   "execution_count": 35,
   "id": "f9fa143a",
   "metadata": {},
   "outputs": [
    {
     "data": {
      "text/plain": [
       "0       1.0\n",
       "1       1.0\n",
       "2       1.0\n",
       "3       1.0\n",
       "4       1.0\n",
       "       ... \n",
       "4208    1.0\n",
       "4209    1.0\n",
       "4210    1.0\n",
       "4211    1.0\n",
       "4212    0.0\n",
       "Name: HasDuplex, Length: 4213, dtype: float64"
      ]
     },
     "execution_count": 35,
     "metadata": {},
     "output_type": "execute_result"
    }
   ],
   "source": [
    "df.loc[df['hasDuplex']=='True','HasDuplex']=1\n",
    "df['HasDuplex'].fillna(0,inplace=True)\n",
    "df['HasDuplex']"
   ]
  },
  {
   "cell_type": "code",
   "execution_count": 36,
   "id": "8c48a7a2",
   "metadata": {},
   "outputs": [
    {
     "data": {
      "text/plain": [
       "0       0.0\n",
       "1       0.0\n",
       "2       0.0\n",
       "3       0.0\n",
       "4       0.0\n",
       "       ... \n",
       "4208    0.0\n",
       "4209    0.0\n",
       "4210    0.0\n",
       "4211    0.0\n",
       "4212    1.0\n",
       "Name: Not_HasDuplex, Length: 4213, dtype: float64"
      ]
     },
     "execution_count": 36,
     "metadata": {},
     "output_type": "execute_result"
    }
   ],
   "source": [
    "df.loc[df['hasDuplex']=='False','Not_HasDuplex']=1\n",
    "df['Not_HasDuplex'].fillna(0,inplace=True)\n",
    "df['Not_HasDuplex']"
   ]
  },
  {
   "cell_type": "code",
   "execution_count": 57,
   "id": "7cbdef38",
   "metadata": {},
   "outputs": [
    {
     "data": {
      "text/plain": [
       "True        4210\n",
       "False          2\n",
       "Optional       1\n",
       "Name: print, dtype: int64"
      ]
     },
     "execution_count": 57,
     "metadata": {},
     "output_type": "execute_result"
    }
   ],
   "source": [
    "freq = df['print'].value_counts()\n",
    "freq"
   ]
  },
  {
   "cell_type": "code",
   "execution_count": 37,
   "id": "62a0bbbd",
   "metadata": {},
   "outputs": [
    {
     "data": {
      "text/plain": [
       "0       1.0\n",
       "1       1.0\n",
       "2       1.0\n",
       "3       1.0\n",
       "4       1.0\n",
       "       ... \n",
       "4208    1.0\n",
       "4209    1.0\n",
       "4210    1.0\n",
       "4211    1.0\n",
       "4212    1.0\n",
       "Name: Print, Length: 4213, dtype: float64"
      ]
     },
     "execution_count": 37,
     "metadata": {},
     "output_type": "execute_result"
    }
   ],
   "source": [
    "df.loc[df['print']=='True','Print']=1\n",
    "df['Print'].fillna(0,inplace=True)\n",
    "df['Print']"
   ]
  },
  {
   "cell_type": "code",
   "execution_count": 38,
   "id": "0dcdfdec",
   "metadata": {},
   "outputs": [
    {
     "data": {
      "text/plain": [
       "0       0.0\n",
       "1       0.0\n",
       "2       0.0\n",
       "3       0.0\n",
       "4       0.0\n",
       "       ... \n",
       "4208    0.0\n",
       "4209    0.0\n",
       "4210    0.0\n",
       "4211    0.0\n",
       "4212    0.0\n",
       "Name: Not_Print, Length: 4213, dtype: float64"
      ]
     },
     "execution_count": 38,
     "metadata": {},
     "output_type": "execute_result"
    }
   ],
   "source": [
    "df.loc[df['print']=='False','Not_Print']=1\n",
    "df['Not_Print'].fillna(0,inplace=True)\n",
    "df['Not_Print']"
   ]
  },
  {
   "cell_type": "code",
   "execution_count": 60,
   "id": "a3f74cc5",
   "metadata": {},
   "outputs": [
    {
     "data": {
      "text/plain": [
       "True        4175\n",
       "False         34\n",
       "Optional       4\n",
       "Name: copy, dtype: int64"
      ]
     },
     "execution_count": 60,
     "metadata": {},
     "output_type": "execute_result"
    }
   ],
   "source": [
    "freq = df['copy'].value_counts()\n",
    "freq"
   ]
  },
  {
   "cell_type": "code",
   "execution_count": 39,
   "id": "d2c2ecc6",
   "metadata": {},
   "outputs": [
    {
     "data": {
      "text/plain": [
       "0       1.0\n",
       "1       1.0\n",
       "2       1.0\n",
       "3       1.0\n",
       "4       1.0\n",
       "       ... \n",
       "4208    1.0\n",
       "4209    1.0\n",
       "4210    1.0\n",
       "4211    1.0\n",
       "4212    1.0\n",
       "Name: Copy, Length: 4213, dtype: float64"
      ]
     },
     "execution_count": 39,
     "metadata": {},
     "output_type": "execute_result"
    }
   ],
   "source": [
    "df.loc[df['copy']=='True','Copy']=1\n",
    "df['Copy'].fillna(0,inplace=True)\n",
    "df['Copy']"
   ]
  },
  {
   "cell_type": "code",
   "execution_count": 40,
   "id": "41d3dabd",
   "metadata": {},
   "outputs": [
    {
     "data": {
      "text/plain": [
       "0       0.0\n",
       "1       0.0\n",
       "2       0.0\n",
       "3       0.0\n",
       "4       0.0\n",
       "       ... \n",
       "4208    0.0\n",
       "4209    0.0\n",
       "4210    0.0\n",
       "4211    0.0\n",
       "4212    0.0\n",
       "Name: Not_Copy, Length: 4213, dtype: float64"
      ]
     },
     "execution_count": 40,
     "metadata": {},
     "output_type": "execute_result"
    }
   ],
   "source": [
    "df.loc[df['copy']=='False','Not_Copy']=1\n",
    "df['Not_Copy'].fillna(0,inplace=True)\n",
    "df['Not_Copy']"
   ]
  },
  {
   "cell_type": "code",
   "execution_count": 63,
   "id": "c6e49ba1",
   "metadata": {},
   "outputs": [
    {
     "data": {
      "text/plain": [
       "True        4133\n",
       "False         51\n",
       "Optional      29\n",
       "Name: scan, dtype: int64"
      ]
     },
     "execution_count": 63,
     "metadata": {},
     "output_type": "execute_result"
    }
   ],
   "source": [
    "freq = df['scan'].value_counts()\n",
    "freq"
   ]
  },
  {
   "cell_type": "code",
   "execution_count": 41,
   "id": "80eef339",
   "metadata": {},
   "outputs": [
    {
     "data": {
      "text/plain": [
       "0       1.0\n",
       "1       1.0\n",
       "2       1.0\n",
       "3       1.0\n",
       "4       1.0\n",
       "       ... \n",
       "4208    1.0\n",
       "4209    1.0\n",
       "4210    1.0\n",
       "4211    1.0\n",
       "4212    1.0\n",
       "Name: Scan, Length: 4213, dtype: float64"
      ]
     },
     "execution_count": 41,
     "metadata": {},
     "output_type": "execute_result"
    }
   ],
   "source": [
    "df.loc[df['scan']=='True','Scan']=1\n",
    "df['Scan'].fillna(0,inplace=True)\n",
    "df['Scan']"
   ]
  },
  {
   "cell_type": "code",
   "execution_count": 42,
   "id": "e285ccbb",
   "metadata": {},
   "outputs": [
    {
     "data": {
      "text/plain": [
       "0       0.0\n",
       "1       0.0\n",
       "2       0.0\n",
       "3       0.0\n",
       "4       0.0\n",
       "       ... \n",
       "4208    0.0\n",
       "4209    0.0\n",
       "4210    0.0\n",
       "4211    0.0\n",
       "4212    0.0\n",
       "Name: Not_Scan, Length: 4213, dtype: float64"
      ]
     },
     "execution_count": 42,
     "metadata": {},
     "output_type": "execute_result"
    }
   ],
   "source": [
    "df.loc[df['scan']=='False','Not_Scan']=1\n",
    "df['Not_Scan'].fillna(0,inplace=True)\n",
    "df['Not_Scan']"
   ]
  },
  {
   "cell_type": "code",
   "execution_count": 43,
   "id": "e9d8529b",
   "metadata": {},
   "outputs": [
    {
     "data": {
      "text/html": [
       "<div>\n",
       "<style scoped>\n",
       "    .dataframe tbody tr th:only-of-type {\n",
       "        vertical-align: middle;\n",
       "    }\n",
       "\n",
       "    .dataframe tbody tr th {\n",
       "        vertical-align: top;\n",
       "    }\n",
       "\n",
       "    .dataframe thead th {\n",
       "        text-align: right;\n",
       "    }\n",
       "</style>\n",
       "<table border=\"1\" class=\"dataframe\">\n",
       "  <thead>\n",
       "    <tr style=\"text-align: right;\">\n",
       "      <th></th>\n",
       "      <th>Hewlett-Packard</th>\n",
       "      <th>Canon</th>\n",
       "      <th>Others Make</th>\n",
       "      <th>Epson</th>\n",
       "      <th>Lexmark</th>\n",
       "      <th>Brother</th>\n",
       "      <th>Xerox</th>\n",
       "      <th>Ricoh</th>\n",
       "      <th>Sharp</th>\n",
       "      <th>Lanier</th>\n",
       "      <th>...</th>\n",
       "      <th>HasA4</th>\n",
       "      <th>Not_HasA5</th>\n",
       "      <th>HasDuplex</th>\n",
       "      <th>Not_HasDuplex</th>\n",
       "      <th>Print</th>\n",
       "      <th>Not_Print</th>\n",
       "      <th>Copy</th>\n",
       "      <th>Not_Copy</th>\n",
       "      <th>Scan</th>\n",
       "      <th>Not_Scan</th>\n",
       "    </tr>\n",
       "  </thead>\n",
       "  <tbody>\n",
       "    <tr>\n",
       "      <th>0</th>\n",
       "      <td>0.0</td>\n",
       "      <td>0.0</td>\n",
       "      <td>0.0</td>\n",
       "      <td>0.0</td>\n",
       "      <td>0.0</td>\n",
       "      <td>1.0</td>\n",
       "      <td>0.0</td>\n",
       "      <td>0.0</td>\n",
       "      <td>0.0</td>\n",
       "      <td>0.0</td>\n",
       "      <td>...</td>\n",
       "      <td>1.0</td>\n",
       "      <td>0.0</td>\n",
       "      <td>1.0</td>\n",
       "      <td>0.0</td>\n",
       "      <td>1.0</td>\n",
       "      <td>0.0</td>\n",
       "      <td>1.0</td>\n",
       "      <td>0.0</td>\n",
       "      <td>1.0</td>\n",
       "      <td>0.0</td>\n",
       "    </tr>\n",
       "    <tr>\n",
       "      <th>1</th>\n",
       "      <td>0.0</td>\n",
       "      <td>0.0</td>\n",
       "      <td>0.0</td>\n",
       "      <td>0.0</td>\n",
       "      <td>0.0</td>\n",
       "      <td>1.0</td>\n",
       "      <td>0.0</td>\n",
       "      <td>0.0</td>\n",
       "      <td>0.0</td>\n",
       "      <td>0.0</td>\n",
       "      <td>...</td>\n",
       "      <td>1.0</td>\n",
       "      <td>0.0</td>\n",
       "      <td>1.0</td>\n",
       "      <td>0.0</td>\n",
       "      <td>1.0</td>\n",
       "      <td>0.0</td>\n",
       "      <td>1.0</td>\n",
       "      <td>0.0</td>\n",
       "      <td>1.0</td>\n",
       "      <td>0.0</td>\n",
       "    </tr>\n",
       "    <tr>\n",
       "      <th>2</th>\n",
       "      <td>0.0</td>\n",
       "      <td>0.0</td>\n",
       "      <td>0.0</td>\n",
       "      <td>0.0</td>\n",
       "      <td>0.0</td>\n",
       "      <td>1.0</td>\n",
       "      <td>0.0</td>\n",
       "      <td>0.0</td>\n",
       "      <td>0.0</td>\n",
       "      <td>0.0</td>\n",
       "      <td>...</td>\n",
       "      <td>1.0</td>\n",
       "      <td>0.0</td>\n",
       "      <td>1.0</td>\n",
       "      <td>0.0</td>\n",
       "      <td>1.0</td>\n",
       "      <td>0.0</td>\n",
       "      <td>1.0</td>\n",
       "      <td>0.0</td>\n",
       "      <td>1.0</td>\n",
       "      <td>0.0</td>\n",
       "    </tr>\n",
       "    <tr>\n",
       "      <th>3</th>\n",
       "      <td>0.0</td>\n",
       "      <td>0.0</td>\n",
       "      <td>0.0</td>\n",
       "      <td>0.0</td>\n",
       "      <td>0.0</td>\n",
       "      <td>1.0</td>\n",
       "      <td>0.0</td>\n",
       "      <td>0.0</td>\n",
       "      <td>0.0</td>\n",
       "      <td>0.0</td>\n",
       "      <td>...</td>\n",
       "      <td>1.0</td>\n",
       "      <td>0.0</td>\n",
       "      <td>1.0</td>\n",
       "      <td>0.0</td>\n",
       "      <td>1.0</td>\n",
       "      <td>0.0</td>\n",
       "      <td>1.0</td>\n",
       "      <td>0.0</td>\n",
       "      <td>1.0</td>\n",
       "      <td>0.0</td>\n",
       "    </tr>\n",
       "    <tr>\n",
       "      <th>4</th>\n",
       "      <td>0.0</td>\n",
       "      <td>0.0</td>\n",
       "      <td>0.0</td>\n",
       "      <td>0.0</td>\n",
       "      <td>0.0</td>\n",
       "      <td>1.0</td>\n",
       "      <td>0.0</td>\n",
       "      <td>0.0</td>\n",
       "      <td>0.0</td>\n",
       "      <td>0.0</td>\n",
       "      <td>...</td>\n",
       "      <td>1.0</td>\n",
       "      <td>0.0</td>\n",
       "      <td>1.0</td>\n",
       "      <td>0.0</td>\n",
       "      <td>1.0</td>\n",
       "      <td>0.0</td>\n",
       "      <td>1.0</td>\n",
       "      <td>0.0</td>\n",
       "      <td>1.0</td>\n",
       "      <td>0.0</td>\n",
       "    </tr>\n",
       "    <tr>\n",
       "      <th>...</th>\n",
       "      <td>...</td>\n",
       "      <td>...</td>\n",
       "      <td>...</td>\n",
       "      <td>...</td>\n",
       "      <td>...</td>\n",
       "      <td>...</td>\n",
       "      <td>...</td>\n",
       "      <td>...</td>\n",
       "      <td>...</td>\n",
       "      <td>...</td>\n",
       "      <td>...</td>\n",
       "      <td>...</td>\n",
       "      <td>...</td>\n",
       "      <td>...</td>\n",
       "      <td>...</td>\n",
       "      <td>...</td>\n",
       "      <td>...</td>\n",
       "      <td>...</td>\n",
       "      <td>...</td>\n",
       "      <td>...</td>\n",
       "      <td>...</td>\n",
       "    </tr>\n",
       "    <tr>\n",
       "      <th>4208</th>\n",
       "      <td>0.0</td>\n",
       "      <td>0.0</td>\n",
       "      <td>0.0</td>\n",
       "      <td>0.0</td>\n",
       "      <td>0.0</td>\n",
       "      <td>0.0</td>\n",
       "      <td>1.0</td>\n",
       "      <td>0.0</td>\n",
       "      <td>0.0</td>\n",
       "      <td>0.0</td>\n",
       "      <td>...</td>\n",
       "      <td>1.0</td>\n",
       "      <td>0.0</td>\n",
       "      <td>1.0</td>\n",
       "      <td>0.0</td>\n",
       "      <td>1.0</td>\n",
       "      <td>0.0</td>\n",
       "      <td>1.0</td>\n",
       "      <td>0.0</td>\n",
       "      <td>1.0</td>\n",
       "      <td>0.0</td>\n",
       "    </tr>\n",
       "    <tr>\n",
       "      <th>4209</th>\n",
       "      <td>0.0</td>\n",
       "      <td>0.0</td>\n",
       "      <td>0.0</td>\n",
       "      <td>0.0</td>\n",
       "      <td>0.0</td>\n",
       "      <td>0.0</td>\n",
       "      <td>1.0</td>\n",
       "      <td>0.0</td>\n",
       "      <td>0.0</td>\n",
       "      <td>0.0</td>\n",
       "      <td>...</td>\n",
       "      <td>1.0</td>\n",
       "      <td>0.0</td>\n",
       "      <td>1.0</td>\n",
       "      <td>0.0</td>\n",
       "      <td>1.0</td>\n",
       "      <td>0.0</td>\n",
       "      <td>1.0</td>\n",
       "      <td>0.0</td>\n",
       "      <td>1.0</td>\n",
       "      <td>0.0</td>\n",
       "    </tr>\n",
       "    <tr>\n",
       "      <th>4210</th>\n",
       "      <td>1.0</td>\n",
       "      <td>0.0</td>\n",
       "      <td>0.0</td>\n",
       "      <td>0.0</td>\n",
       "      <td>0.0</td>\n",
       "      <td>0.0</td>\n",
       "      <td>0.0</td>\n",
       "      <td>0.0</td>\n",
       "      <td>0.0</td>\n",
       "      <td>0.0</td>\n",
       "      <td>...</td>\n",
       "      <td>1.0</td>\n",
       "      <td>0.0</td>\n",
       "      <td>1.0</td>\n",
       "      <td>0.0</td>\n",
       "      <td>1.0</td>\n",
       "      <td>0.0</td>\n",
       "      <td>1.0</td>\n",
       "      <td>0.0</td>\n",
       "      <td>1.0</td>\n",
       "      <td>0.0</td>\n",
       "    </tr>\n",
       "    <tr>\n",
       "      <th>4211</th>\n",
       "      <td>0.0</td>\n",
       "      <td>1.0</td>\n",
       "      <td>0.0</td>\n",
       "      <td>0.0</td>\n",
       "      <td>0.0</td>\n",
       "      <td>0.0</td>\n",
       "      <td>0.0</td>\n",
       "      <td>0.0</td>\n",
       "      <td>0.0</td>\n",
       "      <td>0.0</td>\n",
       "      <td>...</td>\n",
       "      <td>1.0</td>\n",
       "      <td>0.0</td>\n",
       "      <td>1.0</td>\n",
       "      <td>0.0</td>\n",
       "      <td>1.0</td>\n",
       "      <td>0.0</td>\n",
       "      <td>1.0</td>\n",
       "      <td>0.0</td>\n",
       "      <td>1.0</td>\n",
       "      <td>0.0</td>\n",
       "    </tr>\n",
       "    <tr>\n",
       "      <th>4212</th>\n",
       "      <td>0.0</td>\n",
       "      <td>0.0</td>\n",
       "      <td>0.0</td>\n",
       "      <td>0.0</td>\n",
       "      <td>0.0</td>\n",
       "      <td>1.0</td>\n",
       "      <td>0.0</td>\n",
       "      <td>0.0</td>\n",
       "      <td>0.0</td>\n",
       "      <td>0.0</td>\n",
       "      <td>...</td>\n",
       "      <td>1.0</td>\n",
       "      <td>0.0</td>\n",
       "      <td>0.0</td>\n",
       "      <td>1.0</td>\n",
       "      <td>1.0</td>\n",
       "      <td>0.0</td>\n",
       "      <td>1.0</td>\n",
       "      <td>0.0</td>\n",
       "      <td>1.0</td>\n",
       "      <td>0.0</td>\n",
       "    </tr>\n",
       "  </tbody>\n",
       "</table>\n",
       "<p>4213 rows × 40 columns</p>\n",
       "</div>"
      ],
      "text/plain": [
       "      Hewlett-Packard  Canon  Others Make  Epson  Lexmark  Brother  Xerox  \\\n",
       "0                 0.0    0.0          0.0    0.0      0.0      1.0    0.0   \n",
       "1                 0.0    0.0          0.0    0.0      0.0      1.0    0.0   \n",
       "2                 0.0    0.0          0.0    0.0      0.0      1.0    0.0   \n",
       "3                 0.0    0.0          0.0    0.0      0.0      1.0    0.0   \n",
       "4                 0.0    0.0          0.0    0.0      0.0      1.0    0.0   \n",
       "...               ...    ...          ...    ...      ...      ...    ...   \n",
       "4208              0.0    0.0          0.0    0.0      0.0      0.0    1.0   \n",
       "4209              0.0    0.0          0.0    0.0      0.0      0.0    1.0   \n",
       "4210              1.0    0.0          0.0    0.0      0.0      0.0    0.0   \n",
       "4211              0.0    1.0          0.0    0.0      0.0      0.0    0.0   \n",
       "4212              0.0    0.0          0.0    0.0      0.0      1.0    0.0   \n",
       "\n",
       "      Ricoh  Sharp  Lanier  ...  HasA4  Not_HasA5  HasDuplex  Not_HasDuplex  \\\n",
       "0       0.0    0.0     0.0  ...    1.0        0.0        1.0            0.0   \n",
       "1       0.0    0.0     0.0  ...    1.0        0.0        1.0            0.0   \n",
       "2       0.0    0.0     0.0  ...    1.0        0.0        1.0            0.0   \n",
       "3       0.0    0.0     0.0  ...    1.0        0.0        1.0            0.0   \n",
       "4       0.0    0.0     0.0  ...    1.0        0.0        1.0            0.0   \n",
       "...     ...    ...     ...  ...    ...        ...        ...            ...   \n",
       "4208    0.0    0.0     0.0  ...    1.0        0.0        1.0            0.0   \n",
       "4209    0.0    0.0     0.0  ...    1.0        0.0        1.0            0.0   \n",
       "4210    0.0    0.0     0.0  ...    1.0        0.0        1.0            0.0   \n",
       "4211    0.0    0.0     0.0  ...    1.0        0.0        1.0            0.0   \n",
       "4212    0.0    0.0     0.0  ...    1.0        0.0        0.0            1.0   \n",
       "\n",
       "      Print  Not_Print  Copy  Not_Copy  Scan  Not_Scan  \n",
       "0       1.0        0.0   1.0       0.0   1.0       0.0  \n",
       "1       1.0        0.0   1.0       0.0   1.0       0.0  \n",
       "2       1.0        0.0   1.0       0.0   1.0       0.0  \n",
       "3       1.0        0.0   1.0       0.0   1.0       0.0  \n",
       "4       1.0        0.0   1.0       0.0   1.0       0.0  \n",
       "...     ...        ...   ...       ...   ...       ...  \n",
       "4208    1.0        0.0   1.0       0.0   1.0       0.0  \n",
       "4209    1.0        0.0   1.0       0.0   1.0       0.0  \n",
       "4210    1.0        0.0   1.0       0.0   1.0       0.0  \n",
       "4211    1.0        0.0   1.0       0.0   1.0       0.0  \n",
       "4212    1.0        0.0   1.0       0.0   1.0       0.0  \n",
       "\n",
       "[4213 rows x 40 columns]"
      ]
     },
     "execution_count": 43,
     "metadata": {},
     "output_type": "execute_result"
    }
   ],
   "source": [
    "df[['Hewlett-Packard','Canon','Others Make','Epson','Lexmark','Brother','Xerox','Ricoh','Sharp','Lanier','Oki','Konica Minolta','Toshiba','Workgroup','PerSHW','Others aClass','ML_Workgroup','Laser','US','UK','Others Country','India','Economode','Connnetwork','Not_Connnetwork','Connlocal','Not_Connlocal','HasWifi','Not_HasWifi','Not_HasA3','HasA4','Not_HasA5','HasDuplex','Not_HasDuplex','Print','Not_Print','Copy','Not_Copy','Scan','Not_Scan']]"
   ]
  },
  {
   "cell_type": "code",
   "execution_count": 211,
   "id": "977e7fc0",
   "metadata": {},
   "outputs": [
    {
     "data": {
      "text/plain": [
       "0           0.00\n",
       "1           0.00\n",
       "2           0.00\n",
       "3           0.00\n",
       "4           0.00\n",
       "          ...   \n",
       "4208        0.00\n",
       "4209    26100.00\n",
       "4210        0.00\n",
       "4211        0.00\n",
       "4212      109.99\n",
       "Name: listPrice, Length: 4213, dtype: float64"
      ]
     },
     "execution_count": 211,
     "metadata": {},
     "output_type": "execute_result"
    }
   ],
   "source": [
    "df['listPrice']"
   ]
  },
  {
   "cell_type": "code",
   "execution_count": 212,
   "id": "cc97d05c",
   "metadata": {},
   "outputs": [
    {
     "data": {
      "text/plain": [
       "0        1399.00\n",
       "1         450.00\n",
       "2         289.99\n",
       "3         457.35\n",
       "4         600.00\n",
       "          ...   \n",
       "4208     5197.50\n",
       "4209    16949.00\n",
       "4210        0.00\n",
       "4211        0.00\n",
       "4212      158.99\n",
       "Name: streetPrice, Length: 4213, dtype: float64"
      ]
     },
     "execution_count": 212,
     "metadata": {},
     "output_type": "execute_result"
    }
   ],
   "source": [
    "df['streetPrice']"
   ]
  },
  {
   "cell_type": "code",
   "execution_count": 68,
   "id": "b2ba0f25",
   "metadata": {},
   "outputs": [
    {
     "data": {
      "text/plain": [
       "0        1399.00\n",
       "1         450.00\n",
       "2         289.99\n",
       "3         457.35\n",
       "4         600.00\n",
       "          ...   \n",
       "4208     5197.50\n",
       "4209    26100.00\n",
       "4210        0.00\n",
       "4211        0.00\n",
       "4212      109.99\n",
       "Name: finalPrice, Length: 4213, dtype: float64"
      ]
     },
     "execution_count": 68,
     "metadata": {},
     "output_type": "execute_result"
    }
   ],
   "source": [
    "df.loc[df['listPrice']==0,'finalPrice']=df['streetPrice']\n",
    "df['finalPrice'].fillna(df['listPrice'],inplace=True)\n",
    "df['finalPrice']"
   ]
  },
  {
   "cell_type": "code",
   "execution_count": 46,
   "id": "f841fe3b",
   "metadata": {},
   "outputs": [
    {
     "data": {
      "text/html": [
       "<div>\n",
       "<style scoped>\n",
       "    .dataframe tbody tr th:only-of-type {\n",
       "        vertical-align: middle;\n",
       "    }\n",
       "\n",
       "    .dataframe tbody tr th {\n",
       "        vertical-align: top;\n",
       "    }\n",
       "\n",
       "    .dataframe thead th {\n",
       "        text-align: right;\n",
       "    }\n",
       "</style>\n",
       "<table border=\"1\" class=\"dataframe\">\n",
       "  <thead>\n",
       "    <tr style=\"text-align: right;\">\n",
       "      <th></th>\n",
       "      <th>make</th>\n",
       "      <th>model</th>\n",
       "      <th>guid</th>\n",
       "      <th>deviceType</th>\n",
       "      <th>assetClass</th>\n",
       "      <th>productNumber</th>\n",
       "      <th>printTechnology</th>\n",
       "      <th>country</th>\n",
       "      <th>currencyRate</th>\n",
       "      <th>econoMode</th>\n",
       "      <th>...</th>\n",
       "      <th>Not_HasA5</th>\n",
       "      <th>HasDuplex</th>\n",
       "      <th>Not_HasDuplex</th>\n",
       "      <th>Print</th>\n",
       "      <th>Not_Print</th>\n",
       "      <th>Copy</th>\n",
       "      <th>Not_Copy</th>\n",
       "      <th>Scan</th>\n",
       "      <th>Not_Scan</th>\n",
       "      <th>finalPrice</th>\n",
       "    </tr>\n",
       "  </thead>\n",
       "  <tbody>\n",
       "    <tr>\n",
       "      <th>0</th>\n",
       "      <td>False</td>\n",
       "      <td>False</td>\n",
       "      <td>False</td>\n",
       "      <td>False</td>\n",
       "      <td>False</td>\n",
       "      <td>False</td>\n",
       "      <td>False</td>\n",
       "      <td>False</td>\n",
       "      <td>False</td>\n",
       "      <td>False</td>\n",
       "      <td>...</td>\n",
       "      <td>False</td>\n",
       "      <td>False</td>\n",
       "      <td>False</td>\n",
       "      <td>False</td>\n",
       "      <td>False</td>\n",
       "      <td>False</td>\n",
       "      <td>False</td>\n",
       "      <td>False</td>\n",
       "      <td>False</td>\n",
       "      <td>False</td>\n",
       "    </tr>\n",
       "    <tr>\n",
       "      <th>1</th>\n",
       "      <td>False</td>\n",
       "      <td>False</td>\n",
       "      <td>False</td>\n",
       "      <td>False</td>\n",
       "      <td>False</td>\n",
       "      <td>False</td>\n",
       "      <td>False</td>\n",
       "      <td>False</td>\n",
       "      <td>False</td>\n",
       "      <td>False</td>\n",
       "      <td>...</td>\n",
       "      <td>False</td>\n",
       "      <td>False</td>\n",
       "      <td>False</td>\n",
       "      <td>False</td>\n",
       "      <td>False</td>\n",
       "      <td>False</td>\n",
       "      <td>False</td>\n",
       "      <td>False</td>\n",
       "      <td>False</td>\n",
       "      <td>False</td>\n",
       "    </tr>\n",
       "    <tr>\n",
       "      <th>2</th>\n",
       "      <td>False</td>\n",
       "      <td>False</td>\n",
       "      <td>False</td>\n",
       "      <td>False</td>\n",
       "      <td>False</td>\n",
       "      <td>False</td>\n",
       "      <td>False</td>\n",
       "      <td>False</td>\n",
       "      <td>False</td>\n",
       "      <td>False</td>\n",
       "      <td>...</td>\n",
       "      <td>False</td>\n",
       "      <td>False</td>\n",
       "      <td>False</td>\n",
       "      <td>False</td>\n",
       "      <td>False</td>\n",
       "      <td>False</td>\n",
       "      <td>False</td>\n",
       "      <td>False</td>\n",
       "      <td>False</td>\n",
       "      <td>False</td>\n",
       "    </tr>\n",
       "    <tr>\n",
       "      <th>3</th>\n",
       "      <td>False</td>\n",
       "      <td>False</td>\n",
       "      <td>False</td>\n",
       "      <td>False</td>\n",
       "      <td>False</td>\n",
       "      <td>False</td>\n",
       "      <td>False</td>\n",
       "      <td>False</td>\n",
       "      <td>False</td>\n",
       "      <td>False</td>\n",
       "      <td>...</td>\n",
       "      <td>False</td>\n",
       "      <td>False</td>\n",
       "      <td>False</td>\n",
       "      <td>False</td>\n",
       "      <td>False</td>\n",
       "      <td>False</td>\n",
       "      <td>False</td>\n",
       "      <td>False</td>\n",
       "      <td>False</td>\n",
       "      <td>False</td>\n",
       "    </tr>\n",
       "    <tr>\n",
       "      <th>4</th>\n",
       "      <td>False</td>\n",
       "      <td>False</td>\n",
       "      <td>False</td>\n",
       "      <td>False</td>\n",
       "      <td>False</td>\n",
       "      <td>False</td>\n",
       "      <td>False</td>\n",
       "      <td>False</td>\n",
       "      <td>False</td>\n",
       "      <td>False</td>\n",
       "      <td>...</td>\n",
       "      <td>False</td>\n",
       "      <td>False</td>\n",
       "      <td>False</td>\n",
       "      <td>False</td>\n",
       "      <td>False</td>\n",
       "      <td>False</td>\n",
       "      <td>False</td>\n",
       "      <td>False</td>\n",
       "      <td>False</td>\n",
       "      <td>False</td>\n",
       "    </tr>\n",
       "    <tr>\n",
       "      <th>...</th>\n",
       "      <td>...</td>\n",
       "      <td>...</td>\n",
       "      <td>...</td>\n",
       "      <td>...</td>\n",
       "      <td>...</td>\n",
       "      <td>...</td>\n",
       "      <td>...</td>\n",
       "      <td>...</td>\n",
       "      <td>...</td>\n",
       "      <td>...</td>\n",
       "      <td>...</td>\n",
       "      <td>...</td>\n",
       "      <td>...</td>\n",
       "      <td>...</td>\n",
       "      <td>...</td>\n",
       "      <td>...</td>\n",
       "      <td>...</td>\n",
       "      <td>...</td>\n",
       "      <td>...</td>\n",
       "      <td>...</td>\n",
       "      <td>...</td>\n",
       "    </tr>\n",
       "    <tr>\n",
       "      <th>4208</th>\n",
       "      <td>False</td>\n",
       "      <td>False</td>\n",
       "      <td>False</td>\n",
       "      <td>False</td>\n",
       "      <td>False</td>\n",
       "      <td>False</td>\n",
       "      <td>False</td>\n",
       "      <td>False</td>\n",
       "      <td>False</td>\n",
       "      <td>False</td>\n",
       "      <td>...</td>\n",
       "      <td>False</td>\n",
       "      <td>False</td>\n",
       "      <td>False</td>\n",
       "      <td>False</td>\n",
       "      <td>False</td>\n",
       "      <td>False</td>\n",
       "      <td>False</td>\n",
       "      <td>False</td>\n",
       "      <td>False</td>\n",
       "      <td>False</td>\n",
       "    </tr>\n",
       "    <tr>\n",
       "      <th>4209</th>\n",
       "      <td>False</td>\n",
       "      <td>False</td>\n",
       "      <td>False</td>\n",
       "      <td>False</td>\n",
       "      <td>False</td>\n",
       "      <td>False</td>\n",
       "      <td>False</td>\n",
       "      <td>False</td>\n",
       "      <td>False</td>\n",
       "      <td>False</td>\n",
       "      <td>...</td>\n",
       "      <td>False</td>\n",
       "      <td>False</td>\n",
       "      <td>False</td>\n",
       "      <td>False</td>\n",
       "      <td>False</td>\n",
       "      <td>False</td>\n",
       "      <td>False</td>\n",
       "      <td>False</td>\n",
       "      <td>False</td>\n",
       "      <td>False</td>\n",
       "    </tr>\n",
       "    <tr>\n",
       "      <th>4210</th>\n",
       "      <td>False</td>\n",
       "      <td>False</td>\n",
       "      <td>False</td>\n",
       "      <td>False</td>\n",
       "      <td>False</td>\n",
       "      <td>False</td>\n",
       "      <td>False</td>\n",
       "      <td>False</td>\n",
       "      <td>False</td>\n",
       "      <td>False</td>\n",
       "      <td>...</td>\n",
       "      <td>False</td>\n",
       "      <td>False</td>\n",
       "      <td>False</td>\n",
       "      <td>False</td>\n",
       "      <td>False</td>\n",
       "      <td>False</td>\n",
       "      <td>False</td>\n",
       "      <td>False</td>\n",
       "      <td>False</td>\n",
       "      <td>False</td>\n",
       "    </tr>\n",
       "    <tr>\n",
       "      <th>4211</th>\n",
       "      <td>False</td>\n",
       "      <td>False</td>\n",
       "      <td>False</td>\n",
       "      <td>False</td>\n",
       "      <td>False</td>\n",
       "      <td>False</td>\n",
       "      <td>False</td>\n",
       "      <td>False</td>\n",
       "      <td>False</td>\n",
       "      <td>False</td>\n",
       "      <td>...</td>\n",
       "      <td>False</td>\n",
       "      <td>False</td>\n",
       "      <td>False</td>\n",
       "      <td>False</td>\n",
       "      <td>False</td>\n",
       "      <td>False</td>\n",
       "      <td>False</td>\n",
       "      <td>False</td>\n",
       "      <td>False</td>\n",
       "      <td>False</td>\n",
       "    </tr>\n",
       "    <tr>\n",
       "      <th>4212</th>\n",
       "      <td>False</td>\n",
       "      <td>False</td>\n",
       "      <td>False</td>\n",
       "      <td>False</td>\n",
       "      <td>False</td>\n",
       "      <td>False</td>\n",
       "      <td>False</td>\n",
       "      <td>False</td>\n",
       "      <td>False</td>\n",
       "      <td>False</td>\n",
       "      <td>...</td>\n",
       "      <td>False</td>\n",
       "      <td>False</td>\n",
       "      <td>False</td>\n",
       "      <td>False</td>\n",
       "      <td>False</td>\n",
       "      <td>False</td>\n",
       "      <td>False</td>\n",
       "      <td>False</td>\n",
       "      <td>False</td>\n",
       "      <td>False</td>\n",
       "    </tr>\n",
       "  </tbody>\n",
       "</table>\n",
       "<p>4213 rows × 91 columns</p>\n",
       "</div>"
      ],
      "text/plain": [
       "       make  model   guid  deviceType  assetClass  productNumber  \\\n",
       "0     False  False  False       False       False          False   \n",
       "1     False  False  False       False       False          False   \n",
       "2     False  False  False       False       False          False   \n",
       "3     False  False  False       False       False          False   \n",
       "4     False  False  False       False       False          False   \n",
       "...     ...    ...    ...         ...         ...            ...   \n",
       "4208  False  False  False       False       False          False   \n",
       "4209  False  False  False       False       False          False   \n",
       "4210  False  False  False       False       False          False   \n",
       "4211  False  False  False       False       False          False   \n",
       "4212  False  False  False       False       False          False   \n",
       "\n",
       "      printTechnology  country  currencyRate  econoMode  ...  Not_HasA5  \\\n",
       "0               False    False         False      False  ...      False   \n",
       "1               False    False         False      False  ...      False   \n",
       "2               False    False         False      False  ...      False   \n",
       "3               False    False         False      False  ...      False   \n",
       "4               False    False         False      False  ...      False   \n",
       "...               ...      ...           ...        ...  ...        ...   \n",
       "4208            False    False         False      False  ...      False   \n",
       "4209            False    False         False      False  ...      False   \n",
       "4210            False    False         False      False  ...      False   \n",
       "4211            False    False         False      False  ...      False   \n",
       "4212            False    False         False      False  ...      False   \n",
       "\n",
       "      HasDuplex  Not_HasDuplex  Print  Not_Print   Copy  Not_Copy   Scan  \\\n",
       "0         False          False  False      False  False     False  False   \n",
       "1         False          False  False      False  False     False  False   \n",
       "2         False          False  False      False  False     False  False   \n",
       "3         False          False  False      False  False     False  False   \n",
       "4         False          False  False      False  False     False  False   \n",
       "...         ...            ...    ...        ...    ...       ...    ...   \n",
       "4208      False          False  False      False  False     False  False   \n",
       "4209      False          False  False      False  False     False  False   \n",
       "4210      False          False  False      False  False     False  False   \n",
       "4211      False          False  False      False  False     False  False   \n",
       "4212      False          False  False      False  False     False  False   \n",
       "\n",
       "      Not_Scan  finalPrice  \n",
       "0        False       False  \n",
       "1        False       False  \n",
       "2        False       False  \n",
       "3        False       False  \n",
       "4        False       False  \n",
       "...        ...         ...  \n",
       "4208     False       False  \n",
       "4209     False       False  \n",
       "4210     False       False  \n",
       "4211     False       False  \n",
       "4212     False       False  \n",
       "\n",
       "[4213 rows x 91 columns]"
      ]
     },
     "execution_count": 46,
     "metadata": {},
     "output_type": "execute_result"
    }
   ],
   "source": [
    "df.isnull()"
   ]
  },
  {
   "cell_type": "code",
   "execution_count": 47,
   "id": "58623593",
   "metadata": {},
   "outputs": [
    {
     "data": {
      "text/plain": [
       "make          0\n",
       "model         0\n",
       "guid          0\n",
       "deviceType    0\n",
       "assetClass    0\n",
       "             ..\n",
       "Copy          0\n",
       "Not_Copy      0\n",
       "Scan          0\n",
       "Not_Scan      0\n",
       "finalPrice    0\n",
       "Length: 91, dtype: int64"
      ]
     },
     "execution_count": 47,
     "metadata": {},
     "output_type": "execute_result"
    }
   ],
   "source": [
    "df.isnull().sum()"
   ]
  },
  {
   "cell_type": "code",
   "execution_count": 48,
   "id": "2a356226",
   "metadata": {},
   "outputs": [
    {
     "name": "stdout",
     "output_type": "stream",
     "text": [
      "make 0\n",
      "model 0\n",
      "guid 0\n",
      "deviceType 0\n",
      "assetClass 0\n",
      "productNumber 0\n",
      "printTechnology 0\n",
      "country 0\n",
      "currencyRate 0\n",
      "econoMode 0\n",
      "connNetwork 0\n",
      "connLocal 0\n",
      "hasWifi 0\n",
      "width 0\n",
      "depth 0\n",
      "height 0\n",
      "weight 0\n",
      "speedMono 0\n",
      "monoPPMNotes 232\n",
      "speedColor 0\n",
      "colorPPMNotes 243\n",
      "printDPI 6\n",
      "standardOutputCapacity 0\n",
      "maximumOutputCapacity 0\n",
      "standardInputCapacity 0\n",
      "maximumInputCapacity 0\n",
      "hasA3 0\n",
      "hasA4 0\n",
      "hasA5 0\n",
      "hasColor 0\n",
      "hasDuplex 0\n",
      "print 0\n",
      "copy 0\n",
      "scan 0\n",
      "powerActive 0\n",
      "powerIdle 0\n",
      "powerSave 0\n",
      "listPrice 0\n",
      "streetPrice 0\n",
      "ePrice 0\n",
      "url 62\n",
      "powerActiveUnit 0\n",
      "powerIdleUnit 9\n",
      "powerSaveUnit 1\n",
      "weightUnit 0\n",
      "depthUnit 0\n",
      "heightUnit 0\n",
      "widthUnit 0\n",
      "speedMonoUnit 0\n",
      "speedColorUnit 0\n",
      "Hewlett-Packard 0\n",
      "Canon 0\n",
      "Epson 0\n",
      "Lexmark 0\n",
      "Brother 0\n",
      "Xerox 0\n",
      "Ricoh 0\n",
      "Sharp 0\n",
      "Lanier 0\n",
      "Oki 0\n",
      "Konica Minolta 0\n",
      "Toshiba 0\n",
      "Others Make 0\n",
      "Workgroup 0\n",
      "PerSHW 0\n",
      "ML_Workgroup 0\n",
      "Others aClass 0\n",
      "Laser 0\n",
      "Others Country 0\n",
      "US 0\n",
      "UK 0\n",
      "India 0\n",
      "Economode 0\n",
      "Connnetwork 0\n",
      "Not_Connnetwork 0\n",
      "Connlocal 0\n",
      "Not_Connlocal 0\n",
      "HasWifi 0\n",
      "Not_HasWifi 0\n",
      "Not_HasA3 0\n",
      "HasA4 0\n",
      "Not_HasA5 0\n",
      "HasDuplex 0\n",
      "Not_HasDuplex 0\n",
      "Print 0\n",
      "Not_Print 0\n",
      "Copy 0\n",
      "Not_Copy 0\n",
      "Scan 0\n",
      "Not_Scan 0\n",
      "finalPrice 0\n"
     ]
    },
    {
     "name": "stderr",
     "output_type": "stream",
     "text": [
      "C:\\Users\\PRITHVIRAJ\\AppData\\Local\\Temp\\ipykernel_13380\\3317592094.py:2: FutureWarning: iteritems is deprecated and will be removed in a future version. Use .items instead.\n",
      "  for i, j in n.iteritems():\n"
     ]
    }
   ],
   "source": [
    "n=df.isnull().sum()\n",
    "for i, j in n.iteritems():\n",
    "    print(i, j)"
   ]
  },
  {
   "cell_type": "code",
   "execution_count": 248,
   "id": "c8866fc4",
   "metadata": {},
   "outputs": [
    {
     "data": {
      "text/plain": [
       "107"
      ]
     },
     "execution_count": 248,
     "metadata": {},
     "output_type": "execute_result"
    }
   ],
   "source": [
    "len(df.columns)"
   ]
  },
  {
   "cell_type": "code",
   "execution_count": 96,
   "id": "6ae741af",
   "metadata": {},
   "outputs": [
    {
     "data": {
      "text/plain": [
       "multifunctionColor    4213\n",
       "Name: deviceType, dtype: int64"
      ]
     },
     "execution_count": 96,
     "metadata": {},
     "output_type": "execute_result"
    }
   ],
   "source": [
    "df['deviceType'].value_counts()"
   ]
  },
  {
   "cell_type": "code",
   "execution_count": 52,
   "id": "b71d393f",
   "metadata": {},
   "outputs": [
    {
     "data": {
      "text/plain": [
       "0       0.0\n",
       "1       0.0\n",
       "2       0.0\n",
       "3       0.0\n",
       "4       0.0\n",
       "       ... \n",
       "4208    0.0\n",
       "4209    0.0\n",
       "4210    0.0\n",
       "4211    0.0\n",
       "4212    0.0\n",
       "Name: Oki, Length: 4213, dtype: float64"
      ]
     },
     "execution_count": 52,
     "metadata": {},
     "output_type": "execute_result"
    }
   ],
   "source": [
    "df['Oki']"
   ]
  },
  {
   "cell_type": "code",
   "execution_count": 53,
   "id": "2aeb7c80",
   "metadata": {},
   "outputs": [
    {
     "data": {
      "text/plain": [
       "4800 x 1200    1130\n",
       "1200 x 1200    1081\n",
       "600 x 600       532\n",
       "1200 x 600      212\n",
       "5760 x 1440     173\n",
       "2400 x 600      160\n",
       "1200 x 2400     125\n",
       "600 x 1200      111\n",
       "2400 x 1200     103\n",
       "9600 x 600       97\n",
       "9600 x 2400      84\n",
       "1800 x 600       79\n",
       "2400 x 2400      70\n",
       "1200 x 4800      56\n",
       "600 x 2400       25\n",
       "4800 x 2400      21\n",
       "3600 x 1200      20\n",
       "4800 x 600       20\n",
       "1200 x 6000      17\n",
       "2400 x 4800      13\n",
       "600 x 1800       11\n",
       "300 x 300         9\n",
       "6000 x 1200       9\n",
       "0                 8\n",
       "720 x 360         7\n",
       "800 x 400         7\n",
       "600 x 300         6\n",
       "38400 x 600       4\n",
       "4800 x 3600       4\n",
       "400 x 400         2\n",
       "5760 x 1400       1\n",
       "5670 x 1440       1\n",
       "2400 x 3600       1\n",
       "1200x 4800        1\n",
       "3600 x 2400       1\n",
       "360 x 360         1\n",
       "1200 x 3600       1\n",
       "9600 x 1200       1\n",
       "5760 x 720        1\n",
       "1440 x 720        1\n",
       "1200x 1200        1\n",
       "Name: printDPI, dtype: int64"
      ]
     },
     "execution_count": 53,
     "metadata": {},
     "output_type": "execute_result"
    }
   ],
   "source": [
    "df['printDPI'].value_counts()"
   ]
  },
  {
   "cell_type": "code",
   "execution_count": 104,
   "id": "5670173f",
   "metadata": {},
   "outputs": [
    {
     "data": {
      "text/plain": [
       "1.000000    3720\n",
       "1.420000      90\n",
       "0.014000      83\n",
       "0.760000      51\n",
       "1.380000      41\n",
       "            ... \n",
       "1.349209       1\n",
       "1.362834       1\n",
       "1.160150       1\n",
       "1.363670       1\n",
       "1.303416       1\n",
       "Name: currencyRate, Length: 118, dtype: int64"
      ]
     },
     "execution_count": 104,
     "metadata": {},
     "output_type": "execute_result"
    }
   ],
   "source": [
    "feq=df['currencyRate'].value_counts()\n",
    "feq"
   ]
  },
  {
   "cell_type": "code",
   "execution_count": 170,
   "id": "d6a60b9b",
   "metadata": {},
   "outputs": [
    {
     "data": {
      "text/plain": [
       "4800 x 1200    1130\n",
       "1200 x 1200    1081\n",
       "others          580\n",
       "600 x 600       532\n",
       "1200 x 600      212\n",
       "5760 x 1440     173\n",
       "2400 x 600      160\n",
       "1200 x 2400     125\n",
       "600 x 1200      111\n",
       "2400 x 1200     103\n",
       "Name: printDPI, dtype: int64"
      ]
     },
     "execution_count": 170,
     "metadata": {},
     "output_type": "execute_result"
    }
   ],
   "source": [
    "feq=df['printDPI'].value_counts()\n",
    "feq"
   ]
  },
  {
   "cell_type": "code",
   "execution_count": 171,
   "id": "ae38129f",
   "metadata": {},
   "outputs": [
    {
     "data": {
      "text/plain": [
       "0       0.0\n",
       "1       0.0\n",
       "2       0.0\n",
       "3       0.0\n",
       "4       0.0\n",
       "       ... \n",
       "4208    0.0\n",
       "4209    0.0\n",
       "4210    1.0\n",
       "4211    0.0\n",
       "4212    0.0\n",
       "Name: 4800x1200, Length: 4213, dtype: float64"
      ]
     },
     "execution_count": 171,
     "metadata": {},
     "output_type": "execute_result"
    }
   ],
   "source": [
    "df.loc[df['printDPI']=='4800 x 1200','4800x1200']=1\n",
    "df['4800x1200'].fillna(0,inplace=True)\n",
    "df['4800x1200']"
   ]
  },
  {
   "cell_type": "code",
   "execution_count": 172,
   "id": "f0ab40c5",
   "metadata": {},
   "outputs": [
    {
     "data": {
      "text/plain": [
       "0       0.0\n",
       "1       0.0\n",
       "2       0.0\n",
       "3       0.0\n",
       "4       0.0\n",
       "       ... \n",
       "4208    0.0\n",
       "4209    0.0\n",
       "4210    0.0\n",
       "4211    1.0\n",
       "4212    0.0\n",
       "Name: 1200x1200, Length: 4213, dtype: float64"
      ]
     },
     "execution_count": 172,
     "metadata": {},
     "output_type": "execute_result"
    }
   ],
   "source": [
    "df.loc[df['printDPI']=='1200 x 1200','1200x1200']=1\n",
    "df['1200x1200'].fillna(0,inplace=True)\n",
    "df['1200x1200']"
   ]
  },
  {
   "cell_type": "code",
   "execution_count": 173,
   "id": "99486de0",
   "metadata": {},
   "outputs": [
    {
     "data": {
      "text/plain": [
       "0       0.0\n",
       "1       1.0\n",
       "2       0.0\n",
       "3       0.0\n",
       "4       0.0\n",
       "       ... \n",
       "4208    0.0\n",
       "4209    0.0\n",
       "4210    0.0\n",
       "4211    0.0\n",
       "4212    1.0\n",
       "Name: Others dpi, Length: 4213, dtype: float64"
      ]
     },
     "execution_count": 173,
     "metadata": {},
     "output_type": "execute_result"
    }
   ],
   "source": [
    "df.loc[df['printDPI']=='others','Others dpi']=1\n",
    "df['Others dpi'].fillna(0,inplace=True)\n",
    "df['Others dpi']"
   ]
  },
  {
   "cell_type": "code",
   "execution_count": 174,
   "id": "050edfec",
   "metadata": {},
   "outputs": [
    {
     "data": {
      "text/plain": [
       "0       0.0\n",
       "1       0.0\n",
       "2       0.0\n",
       "3       0.0\n",
       "4       0.0\n",
       "       ... \n",
       "4208    1.0\n",
       "4209    0.0\n",
       "4210    0.0\n",
       "4211    0.0\n",
       "4212    0.0\n",
       "Name: 600x600, Length: 4213, dtype: float64"
      ]
     },
     "execution_count": 174,
     "metadata": {},
     "output_type": "execute_result"
    }
   ],
   "source": [
    "df.loc[df['printDPI']=='600 x 600','600x600']=1\n",
    "df['600x600'].fillna(0,inplace=True)\n",
    "df['600x600']"
   ]
  },
  {
   "cell_type": "code",
   "execution_count": 175,
   "id": "94dda326",
   "metadata": {},
   "outputs": [
    {
     "data": {
      "text/plain": [
       "0       0.0\n",
       "1       0.0\n",
       "2       0.0\n",
       "3       1.0\n",
       "4       0.0\n",
       "       ... \n",
       "4208    0.0\n",
       "4209    0.0\n",
       "4210    0.0\n",
       "4211    0.0\n",
       "4212    0.0\n",
       "Name: 1200x600, Length: 4213, dtype: float64"
      ]
     },
     "execution_count": 175,
     "metadata": {},
     "output_type": "execute_result"
    }
   ],
   "source": [
    "df.loc[df['printDPI']=='1200 x 600','1200x600']=1\n",
    "df['1200x600'].fillna(0,inplace=True)\n",
    "df['1200x600']"
   ]
  },
  {
   "cell_type": "code",
   "execution_count": 176,
   "id": "e95c9b34",
   "metadata": {},
   "outputs": [
    {
     "data": {
      "text/plain": [
       "0       0.0\n",
       "1       0.0\n",
       "2       0.0\n",
       "3       0.0\n",
       "4       0.0\n",
       "       ... \n",
       "4208    0.0\n",
       "4209    0.0\n",
       "4210    0.0\n",
       "4211    0.0\n",
       "4212    0.0\n",
       "Name: 5760x1440, Length: 4213, dtype: float64"
      ]
     },
     "execution_count": 176,
     "metadata": {},
     "output_type": "execute_result"
    }
   ],
   "source": [
    "df.loc[df['printDPI']=='5760 x 1440','5760x1440']=1\n",
    "df['5760x1440'].fillna(0,inplace=True)\n",
    "df['5760x1440']"
   ]
  },
  {
   "cell_type": "code",
   "execution_count": 177,
   "id": "ee58ee1d",
   "metadata": {},
   "outputs": [
    {
     "data": {
      "text/plain": [
       "0       0.0\n",
       "1       0.0\n",
       "2       1.0\n",
       "3       0.0\n",
       "4       1.0\n",
       "       ... \n",
       "4208    0.0\n",
       "4209    0.0\n",
       "4210    0.0\n",
       "4211    0.0\n",
       "4212    0.0\n",
       "Name: 2400x600, Length: 4213, dtype: float64"
      ]
     },
     "execution_count": 177,
     "metadata": {},
     "output_type": "execute_result"
    }
   ],
   "source": [
    "df.loc[df['printDPI']=='2400 x 600','2400x600']=1\n",
    "df['2400x600'].fillna(0,inplace=True)\n",
    "df['2400x600']"
   ]
  },
  {
   "cell_type": "code",
   "execution_count": 179,
   "id": "89e1e9b1",
   "metadata": {},
   "outputs": [
    {
     "data": {
      "text/plain": [
       "0       0.0\n",
       "1       0.0\n",
       "2       0.0\n",
       "3       0.0\n",
       "4       0.0\n",
       "       ... \n",
       "4208    0.0\n",
       "4209    1.0\n",
       "4210    0.0\n",
       "4211    0.0\n",
       "4212    0.0\n",
       "Name: 1200x2400, Length: 4213, dtype: float64"
      ]
     },
     "execution_count": 179,
     "metadata": {},
     "output_type": "execute_result"
    }
   ],
   "source": [
    "df.loc[df['printDPI']=='1200 x 2400','1200x2400']=1\n",
    "df['1200x2400'].fillna(0,inplace=True)\n",
    "df['1200x2400']"
   ]
  },
  {
   "cell_type": "code",
   "execution_count": 180,
   "id": "9fa99d4a",
   "metadata": {},
   "outputs": [
    {
     "data": {
      "text/plain": [
       "0       1.0\n",
       "1       0.0\n",
       "2       0.0\n",
       "3       0.0\n",
       "4       0.0\n",
       "       ... \n",
       "4208    0.0\n",
       "4209    0.0\n",
       "4210    0.0\n",
       "4211    0.0\n",
       "4212    0.0\n",
       "Name: 600x1200, Length: 4213, dtype: float64"
      ]
     },
     "execution_count": 180,
     "metadata": {},
     "output_type": "execute_result"
    }
   ],
   "source": [
    "df.loc[df['printDPI']=='600 x 1200','600x1200']=1\n",
    "df['600x1200'].fillna(0,inplace=True)\n",
    "df['600x1200']"
   ]
  },
  {
   "cell_type": "code",
   "execution_count": 72,
   "id": "60ecfc6c",
   "metadata": {},
   "outputs": [
    {
     "data": {
      "text/html": [
       "<div>\n",
       "<style scoped>\n",
       "    .dataframe tbody tr th:only-of-type {\n",
       "        vertical-align: middle;\n",
       "    }\n",
       "\n",
       "    .dataframe tbody tr th {\n",
       "        vertical-align: top;\n",
       "    }\n",
       "\n",
       "    .dataframe thead th {\n",
       "        text-align: right;\n",
       "    }\n",
       "</style>\n",
       "<table border=\"1\" class=\"dataframe\">\n",
       "  <thead>\n",
       "    <tr style=\"text-align: right;\">\n",
       "      <th></th>\n",
       "      <th>Hewlett-Packard</th>\n",
       "      <th>Canon</th>\n",
       "      <th>Others Make</th>\n",
       "      <th>Epson</th>\n",
       "      <th>Lexmark</th>\n",
       "      <th>Brother</th>\n",
       "      <th>Xerox</th>\n",
       "      <th>Ricoh</th>\n",
       "      <th>Sharp</th>\n",
       "      <th>Lanier</th>\n",
       "      <th>...</th>\n",
       "      <th>speedMono</th>\n",
       "      <th>speedColor</th>\n",
       "      <th>standardOutputCapacity</th>\n",
       "      <th>maximumOutputCapacity</th>\n",
       "      <th>standardInputCapacity</th>\n",
       "      <th>maximumInputCapacity</th>\n",
       "      <th>powerActive</th>\n",
       "      <th>powerIdle</th>\n",
       "      <th>powerSave</th>\n",
       "      <th>Others printDPI</th>\n",
       "    </tr>\n",
       "  </thead>\n",
       "  <tbody>\n",
       "    <tr>\n",
       "      <th>0</th>\n",
       "      <td>0.0</td>\n",
       "      <td>0.0</td>\n",
       "      <td>0.0</td>\n",
       "      <td>0.0</td>\n",
       "      <td>0.0</td>\n",
       "      <td>1.0</td>\n",
       "      <td>0.0</td>\n",
       "      <td>0.0</td>\n",
       "      <td>0.0</td>\n",
       "      <td>0.0</td>\n",
       "      <td>...</td>\n",
       "      <td>35.0</td>\n",
       "      <td>27.0</td>\n",
       "      <td>50</td>\n",
       "      <td>50</td>\n",
       "      <td>250</td>\n",
       "      <td>500</td>\n",
       "      <td>26.0</td>\n",
       "      <td>7.5</td>\n",
       "      <td>4.00</td>\n",
       "      <td>0.0</td>\n",
       "    </tr>\n",
       "    <tr>\n",
       "      <th>1</th>\n",
       "      <td>0.0</td>\n",
       "      <td>0.0</td>\n",
       "      <td>0.0</td>\n",
       "      <td>0.0</td>\n",
       "      <td>0.0</td>\n",
       "      <td>1.0</td>\n",
       "      <td>0.0</td>\n",
       "      <td>0.0</td>\n",
       "      <td>0.0</td>\n",
       "      <td>0.0</td>\n",
       "      <td>...</td>\n",
       "      <td>22.0</td>\n",
       "      <td>22.0</td>\n",
       "      <td>100</td>\n",
       "      <td>100</td>\n",
       "      <td>250</td>\n",
       "      <td>250</td>\n",
       "      <td>380.0</td>\n",
       "      <td>70.0</td>\n",
       "      <td>1.80</td>\n",
       "      <td>1.0</td>\n",
       "    </tr>\n",
       "    <tr>\n",
       "      <th>2</th>\n",
       "      <td>0.0</td>\n",
       "      <td>0.0</td>\n",
       "      <td>0.0</td>\n",
       "      <td>0.0</td>\n",
       "      <td>0.0</td>\n",
       "      <td>1.0</td>\n",
       "      <td>0.0</td>\n",
       "      <td>0.0</td>\n",
       "      <td>0.0</td>\n",
       "      <td>0.0</td>\n",
       "      <td>...</td>\n",
       "      <td>22.0</td>\n",
       "      <td>22.0</td>\n",
       "      <td>100</td>\n",
       "      <td>100</td>\n",
       "      <td>250</td>\n",
       "      <td>250</td>\n",
       "      <td>380.0</td>\n",
       "      <td>70.0</td>\n",
       "      <td>7.50</td>\n",
       "      <td>0.0</td>\n",
       "    </tr>\n",
       "    <tr>\n",
       "      <th>3</th>\n",
       "      <td>0.0</td>\n",
       "      <td>0.0</td>\n",
       "      <td>0.0</td>\n",
       "      <td>0.0</td>\n",
       "      <td>0.0</td>\n",
       "      <td>1.0</td>\n",
       "      <td>0.0</td>\n",
       "      <td>0.0</td>\n",
       "      <td>0.0</td>\n",
       "      <td>0.0</td>\n",
       "      <td>...</td>\n",
       "      <td>35.0</td>\n",
       "      <td>27.0</td>\n",
       "      <td>50</td>\n",
       "      <td>50</td>\n",
       "      <td>250</td>\n",
       "      <td>500</td>\n",
       "      <td>29.0</td>\n",
       "      <td>5.5</td>\n",
       "      <td>1.50</td>\n",
       "      <td>0.0</td>\n",
       "    </tr>\n",
       "    <tr>\n",
       "      <th>4</th>\n",
       "      <td>0.0</td>\n",
       "      <td>0.0</td>\n",
       "      <td>0.0</td>\n",
       "      <td>0.0</td>\n",
       "      <td>0.0</td>\n",
       "      <td>1.0</td>\n",
       "      <td>0.0</td>\n",
       "      <td>0.0</td>\n",
       "      <td>0.0</td>\n",
       "      <td>0.0</td>\n",
       "      <td>...</td>\n",
       "      <td>24.0</td>\n",
       "      <td>24.0</td>\n",
       "      <td>150</td>\n",
       "      <td>150</td>\n",
       "      <td>250</td>\n",
       "      <td>250</td>\n",
       "      <td>570.0</td>\n",
       "      <td>70.0</td>\n",
       "      <td>1.70</td>\n",
       "      <td>0.0</td>\n",
       "    </tr>\n",
       "    <tr>\n",
       "      <th>...</th>\n",
       "      <td>...</td>\n",
       "      <td>...</td>\n",
       "      <td>...</td>\n",
       "      <td>...</td>\n",
       "      <td>...</td>\n",
       "      <td>...</td>\n",
       "      <td>...</td>\n",
       "      <td>...</td>\n",
       "      <td>...</td>\n",
       "      <td>...</td>\n",
       "      <td>...</td>\n",
       "      <td>...</td>\n",
       "      <td>...</td>\n",
       "      <td>...</td>\n",
       "      <td>...</td>\n",
       "      <td>...</td>\n",
       "      <td>...</td>\n",
       "      <td>...</td>\n",
       "      <td>...</td>\n",
       "      <td>...</td>\n",
       "      <td>...</td>\n",
       "    </tr>\n",
       "    <tr>\n",
       "      <th>4208</th>\n",
       "      <td>0.0</td>\n",
       "      <td>0.0</td>\n",
       "      <td>0.0</td>\n",
       "      <td>0.0</td>\n",
       "      <td>0.0</td>\n",
       "      <td>0.0</td>\n",
       "      <td>1.0</td>\n",
       "      <td>0.0</td>\n",
       "      <td>0.0</td>\n",
       "      <td>0.0</td>\n",
       "      <td>...</td>\n",
       "      <td>55.0</td>\n",
       "      <td>50.0</td>\n",
       "      <td>0</td>\n",
       "      <td>0</td>\n",
       "      <td>3140</td>\n",
       "      <td>3140</td>\n",
       "      <td>0.0</td>\n",
       "      <td>0.0</td>\n",
       "      <td>0.00</td>\n",
       "      <td>0.0</td>\n",
       "    </tr>\n",
       "    <tr>\n",
       "      <th>4209</th>\n",
       "      <td>0.0</td>\n",
       "      <td>0.0</td>\n",
       "      <td>0.0</td>\n",
       "      <td>0.0</td>\n",
       "      <td>0.0</td>\n",
       "      <td>0.0</td>\n",
       "      <td>1.0</td>\n",
       "      <td>0.0</td>\n",
       "      <td>0.0</td>\n",
       "      <td>0.0</td>\n",
       "      <td>...</td>\n",
       "      <td>55.0</td>\n",
       "      <td>55.0</td>\n",
       "      <td>350</td>\n",
       "      <td>350</td>\n",
       "      <td>3140</td>\n",
       "      <td>6140</td>\n",
       "      <td>806.0</td>\n",
       "      <td>72.0</td>\n",
       "      <td>0.67</td>\n",
       "      <td>0.0</td>\n",
       "    </tr>\n",
       "    <tr>\n",
       "      <th>4210</th>\n",
       "      <td>1.0</td>\n",
       "      <td>0.0</td>\n",
       "      <td>0.0</td>\n",
       "      <td>0.0</td>\n",
       "      <td>0.0</td>\n",
       "      <td>0.0</td>\n",
       "      <td>0.0</td>\n",
       "      <td>0.0</td>\n",
       "      <td>0.0</td>\n",
       "      <td>0.0</td>\n",
       "      <td>...</td>\n",
       "      <td>15.0</td>\n",
       "      <td>9.0</td>\n",
       "      <td>100</td>\n",
       "      <td>100</td>\n",
       "      <td>250</td>\n",
       "      <td>250</td>\n",
       "      <td>0.0</td>\n",
       "      <td>1.1</td>\n",
       "      <td>0.10</td>\n",
       "      <td>0.0</td>\n",
       "    </tr>\n",
       "    <tr>\n",
       "      <th>4211</th>\n",
       "      <td>0.0</td>\n",
       "      <td>1.0</td>\n",
       "      <td>0.0</td>\n",
       "      <td>0.0</td>\n",
       "      <td>0.0</td>\n",
       "      <td>0.0</td>\n",
       "      <td>0.0</td>\n",
       "      <td>0.0</td>\n",
       "      <td>0.0</td>\n",
       "      <td>0.0</td>\n",
       "      <td>...</td>\n",
       "      <td>27.0</td>\n",
       "      <td>27.0</td>\n",
       "      <td>150</td>\n",
       "      <td>150</td>\n",
       "      <td>300</td>\n",
       "      <td>850</td>\n",
       "      <td>1390.0</td>\n",
       "      <td>18.0</td>\n",
       "      <td>0.70</td>\n",
       "      <td>0.0</td>\n",
       "    </tr>\n",
       "    <tr>\n",
       "      <th>4212</th>\n",
       "      <td>0.0</td>\n",
       "      <td>0.0</td>\n",
       "      <td>0.0</td>\n",
       "      <td>0.0</td>\n",
       "      <td>0.0</td>\n",
       "      <td>1.0</td>\n",
       "      <td>0.0</td>\n",
       "      <td>0.0</td>\n",
       "      <td>0.0</td>\n",
       "      <td>0.0</td>\n",
       "      <td>...</td>\n",
       "      <td>16.0</td>\n",
       "      <td>9.0</td>\n",
       "      <td>50</td>\n",
       "      <td>50</td>\n",
       "      <td>150</td>\n",
       "      <td>150</td>\n",
       "      <td>0.0</td>\n",
       "      <td>0.0</td>\n",
       "      <td>0.00</td>\n",
       "      <td>1.0</td>\n",
       "    </tr>\n",
       "  </tbody>\n",
       "</table>\n",
       "<p>4213 rows × 55 columns</p>\n",
       "</div>"
      ],
      "text/plain": [
       "      Hewlett-Packard  Canon  Others Make  Epson  Lexmark  Brother  Xerox  \\\n",
       "0                 0.0    0.0          0.0    0.0      0.0      1.0    0.0   \n",
       "1                 0.0    0.0          0.0    0.0      0.0      1.0    0.0   \n",
       "2                 0.0    0.0          0.0    0.0      0.0      1.0    0.0   \n",
       "3                 0.0    0.0          0.0    0.0      0.0      1.0    0.0   \n",
       "4                 0.0    0.0          0.0    0.0      0.0      1.0    0.0   \n",
       "...               ...    ...          ...    ...      ...      ...    ...   \n",
       "4208              0.0    0.0          0.0    0.0      0.0      0.0    1.0   \n",
       "4209              0.0    0.0          0.0    0.0      0.0      0.0    1.0   \n",
       "4210              1.0    0.0          0.0    0.0      0.0      0.0    0.0   \n",
       "4211              0.0    1.0          0.0    0.0      0.0      0.0    0.0   \n",
       "4212              0.0    0.0          0.0    0.0      0.0      1.0    0.0   \n",
       "\n",
       "      Ricoh  Sharp  Lanier  ...  speedMono  speedColor  \\\n",
       "0       0.0    0.0     0.0  ...       35.0        27.0   \n",
       "1       0.0    0.0     0.0  ...       22.0        22.0   \n",
       "2       0.0    0.0     0.0  ...       22.0        22.0   \n",
       "3       0.0    0.0     0.0  ...       35.0        27.0   \n",
       "4       0.0    0.0     0.0  ...       24.0        24.0   \n",
       "...     ...    ...     ...  ...        ...         ...   \n",
       "4208    0.0    0.0     0.0  ...       55.0        50.0   \n",
       "4209    0.0    0.0     0.0  ...       55.0        55.0   \n",
       "4210    0.0    0.0     0.0  ...       15.0         9.0   \n",
       "4211    0.0    0.0     0.0  ...       27.0        27.0   \n",
       "4212    0.0    0.0     0.0  ...       16.0         9.0   \n",
       "\n",
       "      standardOutputCapacity  maximumOutputCapacity  standardInputCapacity  \\\n",
       "0                         50                     50                    250   \n",
       "1                        100                    100                    250   \n",
       "2                        100                    100                    250   \n",
       "3                         50                     50                    250   \n",
       "4                        150                    150                    250   \n",
       "...                      ...                    ...                    ...   \n",
       "4208                       0                      0                   3140   \n",
       "4209                     350                    350                   3140   \n",
       "4210                     100                    100                    250   \n",
       "4211                     150                    150                    300   \n",
       "4212                      50                     50                    150   \n",
       "\n",
       "      maximumInputCapacity  powerActive  powerIdle  powerSave  Others printDPI  \n",
       "0                      500         26.0        7.5       4.00              0.0  \n",
       "1                      250        380.0       70.0       1.80              1.0  \n",
       "2                      250        380.0       70.0       7.50              0.0  \n",
       "3                      500         29.0        5.5       1.50              0.0  \n",
       "4                      250        570.0       70.0       1.70              0.0  \n",
       "...                    ...          ...        ...        ...              ...  \n",
       "4208                  3140          0.0        0.0       0.00              0.0  \n",
       "4209                  6140        806.0       72.0       0.67              0.0  \n",
       "4210                   250          0.0        1.1       0.10              0.0  \n",
       "4211                   850       1390.0       18.0       0.70              0.0  \n",
       "4212                   150          0.0        0.0       0.00              1.0  \n",
       "\n",
       "[4213 rows x 55 columns]"
      ]
     },
     "execution_count": 72,
     "metadata": {},
     "output_type": "execute_result"
    }
   ],
   "source": [
    "df[['Hewlett-Packard','Canon','Others Make','Epson','Lexmark','Brother','Xerox','Ricoh','Sharp','Lanier','Oki','Konica Minolta','Toshiba','Workgroup','PerSHW','Others aClass','ML_Workgroup','Laser','US','UK','Others Country','India','Economode','Connnetwork','Not_Connnetwork','Connlocal','Not_Connlocal','HasWifi','Not_HasWifi','Not_HasA3','HasA4','Not_HasA5','HasDuplex','Not_HasDuplex','Print','Not_Print','Copy','Not_Copy','Scan','Not_Scan','currencyRate','width','depth','height','weight','speedMono','speedColor','standardOutputCapacity','maximumOutputCapacity','standardInputCapacity','maximumInputCapacity','powerActive','powerIdle','powerSave','Others printDPI']]\n"
   ]
  },
  {
   "cell_type": "code",
   "execution_count": 94,
   "id": "1a25283b",
   "metadata": {},
   "outputs": [
    {
     "name": "stdout",
     "output_type": "stream",
     "text": [
      "Point-biserial correlation coefficient: -0.0577\n"
     ]
    }
   ],
   "source": [
    "from scipy.stats import pointbiserialr\n",
    "target=df['finalPrice']\n",
    "dummy=df['Hewlett-Packard']\n",
    "corr, pvalue = pointbiserialr(target, dummy)\n",
    "print(f\"Point-biserial correlation coefficient: {corr:.4f}\")\n"
   ]
  },
  {
   "cell_type": "code",
   "execution_count": 95,
   "id": "ad73a937",
   "metadata": {},
   "outputs": [
    {
     "data": {
      "text/plain": [
       "-0.0576709874414081"
      ]
     },
     "execution_count": 95,
     "metadata": {},
     "output_type": "execute_result"
    }
   ],
   "source": [
    "corr_hp_fp=df['Hewlett-Packard'].corr(df['finalPrice'])\n",
    "corr_hp_fp"
   ]
  },
  {
   "cell_type": "code",
   "execution_count": 93,
   "id": "521bc389",
   "metadata": {},
   "outputs": [
    {
     "name": "stdout",
     "output_type": "stream",
     "text": [
      "Point-biserial correlation coefficient: 0.1145\n"
     ]
    }
   ],
   "source": [
    "from scipy.stats import pointbiserialr\n",
    "target=df['finalPrice']\n",
    "dummy=df['Canon']\n",
    "corr, pvalue = pointbiserialr(target, dummy)\n",
    "print(f\"Point-biserial correlation coefficient: {corr:.4f}\")"
   ]
  },
  {
   "cell_type": "code",
   "execution_count": 92,
   "id": "d8441674",
   "metadata": {},
   "outputs": [
    {
     "name": "stdout",
     "output_type": "stream",
     "text": [
      "Point-biserial correlation coefficient: -0.0114\n"
     ]
    }
   ],
   "source": [
    "from scipy.stats import pointbiserialr\n",
    "target=df['finalPrice']\n",
    "dummy=df['Others Make']\n",
    "corr, pvalue = pointbiserialr(target, dummy)\n",
    "print(f\"Point-biserial correlation coefficient: {corr:.4f}\")"
   ]
  },
  {
   "cell_type": "code",
   "execution_count": 90,
   "id": "ce70d3ca",
   "metadata": {},
   "outputs": [
    {
     "name": "stdout",
     "output_type": "stream",
     "text": [
      "Point-biserial correlation coefficient: -0.0233\n"
     ]
    }
   ],
   "source": [
    "from scipy.stats import pointbiserialr\n",
    "target=df['finalPrice']\n",
    "dummy=df['Epson']\n",
    "corr, pvalue = pointbiserialr(target, dummy)\n",
    "print(f\"Point-biserial correlation coefficient: {corr:.4f}\")"
   ]
  },
  {
   "cell_type": "code",
   "execution_count": 89,
   "id": "d5b76f2c",
   "metadata": {},
   "outputs": [
    {
     "name": "stdout",
     "output_type": "stream",
     "text": [
      "Point-biserial correlation coefficient: -0.0165\n"
     ]
    }
   ],
   "source": [
    "from scipy.stats import pointbiserialr\n",
    "target=df['finalPrice']\n",
    "dummy=df['Lexmark']\n",
    "corr, pvalue = pointbiserialr(target, dummy)\n",
    "print(f\"Point-biserial correlation coefficient: {corr:.4f}\")"
   ]
  },
  {
   "cell_type": "code",
   "execution_count": 88,
   "id": "5d5e0ae4",
   "metadata": {},
   "outputs": [
    {
     "name": "stdout",
     "output_type": "stream",
     "text": [
      "Point-biserial correlation coefficient: -0.0216\n"
     ]
    }
   ],
   "source": [
    "from scipy.stats import pointbiserialr\n",
    "target=df['finalPrice']\n",
    "dummy=df['Brother']\n",
    "corr, pvalue = pointbiserialr(target, dummy)\n",
    "print(f\"Point-biserial correlation coefficient: {corr:.4f}\")"
   ]
  },
  {
   "cell_type": "code",
   "execution_count": 87,
   "id": "2b008e16",
   "metadata": {},
   "outputs": [
    {
     "name": "stdout",
     "output_type": "stream",
     "text": [
      "Point-biserial correlation coefficient: 0.0020\n"
     ]
    }
   ],
   "source": [
    "from scipy.stats import pointbiserialr\n",
    "target=df['finalPrice']\n",
    "dummy=df['Xerox']\n",
    "corr, pvalue = pointbiserialr(target, dummy)\n",
    "print(f\"Point-biserial correlation coefficient: {corr:.4f}\")"
   ]
  },
  {
   "cell_type": "code",
   "execution_count": 86,
   "id": "135e6b1e",
   "metadata": {},
   "outputs": [
    {
     "name": "stdout",
     "output_type": "stream",
     "text": [
      "Point-biserial correlation coefficient: 0.0027\n"
     ]
    }
   ],
   "source": [
    "from scipy.stats import pointbiserialr\n",
    "target=df['finalPrice']\n",
    "dummy=df['Ricoh']\n",
    "corr, pvalue = pointbiserialr(target, dummy)\n",
    "print(f\"Point-biserial correlation coefficient: {corr:.4f}\")"
   ]
  },
  {
   "cell_type": "code",
   "execution_count": 85,
   "id": "1b280dd9",
   "metadata": {},
   "outputs": [
    {
     "name": "stdout",
     "output_type": "stream",
     "text": [
      "Point-biserial correlation coefficient: 0.0035\n"
     ]
    }
   ],
   "source": [
    "from scipy.stats import pointbiserialr\n",
    "target=df['finalPrice']\n",
    "dummy=df['Sharp']\n",
    "corr, pvalue = pointbiserialr(target, dummy)\n",
    "print(f\"Point-biserial correlation coefficient: {corr:.4f}\")"
   ]
  },
  {
   "cell_type": "code",
   "execution_count": 84,
   "id": "5d41ed09",
   "metadata": {},
   "outputs": [
    {
     "name": "stdout",
     "output_type": "stream",
     "text": [
      "Point-biserial correlation coefficient: 0.0045\n"
     ]
    }
   ],
   "source": [
    "from scipy.stats import pointbiserialr\n",
    "target=df['finalPrice']\n",
    "dummy=df['Lanier']\n",
    "corr, pvalue = pointbiserialr(target, dummy)\n",
    "print(f\"Point-biserial correlation coefficient: {corr:.4f}\")"
   ]
  },
  {
   "cell_type": "code",
   "execution_count": 83,
   "id": "45537965",
   "metadata": {},
   "outputs": [
    {
     "name": "stdout",
     "output_type": "stream",
     "text": [
      "Point-biserial correlation coefficient: -0.0108\n"
     ]
    }
   ],
   "source": [
    "from scipy.stats import pointbiserialr\n",
    "target=df['finalPrice']\n",
    "dummy=df['Oki']\n",
    "corr, pvalue = pointbiserialr(target, dummy)\n",
    "print(f\"Point-biserial correlation coefficient: {corr:.4f}\")"
   ]
  },
  {
   "cell_type": "code",
   "execution_count": 82,
   "id": "c864eaed",
   "metadata": {},
   "outputs": [
    {
     "name": "stdout",
     "output_type": "stream",
     "text": [
      "Point-biserial correlation coefficient: 0.0107\n"
     ]
    }
   ],
   "source": [
    "from scipy.stats import pointbiserialr\n",
    "target=df['finalPrice']\n",
    "dummy=df['Konica Minolta']\n",
    "corr, pvalue = pointbiserialr(target, dummy)\n",
    "print(f\"Point-biserial correlation coefficient: {corr:.4f}\")"
   ]
  },
  {
   "cell_type": "code",
   "execution_count": 81,
   "id": "a47ef947",
   "metadata": {},
   "outputs": [
    {
     "name": "stdout",
     "output_type": "stream",
     "text": [
      "Point-biserial correlation coefficient: 0.0131\n"
     ]
    }
   ],
   "source": [
    "from scipy.stats import pointbiserialr\n",
    "target=df['finalPrice']\n",
    "dummy=df['Toshiba']\n",
    "corr, pvalue = pointbiserialr(target, dummy)\n",
    "print(f\"Point-biserial correlation coefficient: {corr:.4f}\")"
   ]
  },
  {
   "cell_type": "code",
   "execution_count": 80,
   "id": "166432f1",
   "metadata": {},
   "outputs": [
    {
     "name": "stdout",
     "output_type": "stream",
     "text": [
      "Point-biserial correlation coefficient: 0.0418\n"
     ]
    }
   ],
   "source": [
    "from scipy.stats import pointbiserialr\n",
    "target=df['finalPrice']\n",
    "dummy=df['Workgroup']\n",
    "corr, pvalue = pointbiserialr(target, dummy)\n",
    "print(f\"Point-biserial correlation coefficient: {corr:.4f}\")"
   ]
  },
  {
   "cell_type": "code",
   "execution_count": 79,
   "id": "1c369f64",
   "metadata": {},
   "outputs": [
    {
     "name": "stdout",
     "output_type": "stream",
     "text": [
      "Point-biserial correlation coefficient: -0.0505\n"
     ]
    }
   ],
   "source": [
    "from scipy.stats import pointbiserialr\n",
    "target=df['finalPrice']\n",
    "dummy=df['PerSHW']\n",
    "corr, pvalue = pointbiserialr(target, dummy)\n",
    "print(f\"Point-biserial correlation coefficient: {corr:.4f}\")"
   ]
  },
  {
   "cell_type": "code",
   "execution_count": 78,
   "id": "c1080bfd",
   "metadata": {},
   "outputs": [
    {
     "name": "stdout",
     "output_type": "stream",
     "text": [
      "Point-biserial correlation coefficient: 0.0210\n"
     ]
    }
   ],
   "source": [
    "from scipy.stats import pointbiserialr\n",
    "target=df['finalPrice']\n",
    "dummy=df['Others aClass']\n",
    "corr, pvalue = pointbiserialr(target, dummy)\n",
    "print(f\"Point-biserial correlation coefficient: {corr:.4f}\")"
   ]
  },
  {
   "cell_type": "code",
   "execution_count": 77,
   "id": "b7c844b0",
   "metadata": {},
   "outputs": [
    {
     "name": "stdout",
     "output_type": "stream",
     "text": [
      "Point-biserial correlation coefficient: 0.0004\n"
     ]
    }
   ],
   "source": [
    "from scipy.stats import pointbiserialr\n",
    "target=df['finalPrice']\n",
    "dummy=df['ML_Workgroup']\n",
    "corr, pvalue = pointbiserialr(target, dummy)\n",
    "print(f\"Point-biserial correlation coefficient: {corr:.4f}\")"
   ]
  },
  {
   "cell_type": "code",
   "execution_count": 97,
   "id": "648c1212",
   "metadata": {},
   "outputs": [
    {
     "name": "stdout",
     "output_type": "stream",
     "text": [
      "Point-biserial correlation coefficient: 0.0854\n"
     ]
    }
   ],
   "source": [
    "from scipy.stats import pointbiserialr\n",
    "target=df['finalPrice']\n",
    "dummy=df['Laser']\n",
    "corr, pvalue = pointbiserialr(target, dummy)\n",
    "print(f\"Point-biserial correlation coefficient: {corr:.4f}\")"
   ]
  },
  {
   "cell_type": "code",
   "execution_count": 98,
   "id": "ae464941",
   "metadata": {},
   "outputs": [
    {
     "name": "stdout",
     "output_type": "stream",
     "text": [
      "Point-biserial correlation coefficient: -0.1064\n"
     ]
    }
   ],
   "source": [
    "from scipy.stats import pointbiserialr\n",
    "target=df['finalPrice']\n",
    "dummy=df['US']\n",
    "corr, pvalue = pointbiserialr(target, dummy)\n",
    "print(f\"Point-biserial correlation coefficient: {corr:.4f}\")"
   ]
  },
  {
   "cell_type": "code",
   "execution_count": 99,
   "id": "d4aab8af",
   "metadata": {},
   "outputs": [
    {
     "name": "stdout",
     "output_type": "stream",
     "text": [
      "Point-biserial correlation coefficient: -0.0174\n"
     ]
    }
   ],
   "source": [
    "from scipy.stats import pointbiserialr\n",
    "target=df['finalPrice']\n",
    "dummy=df['UK']\n",
    "corr, pvalue = pointbiserialr(target, dummy)\n",
    "print(f\"Point-biserial correlation coefficient: {corr:.4f}\")"
   ]
  },
  {
   "cell_type": "code",
   "execution_count": 100,
   "id": "7cde5b41",
   "metadata": {},
   "outputs": [
    {
     "name": "stdout",
     "output_type": "stream",
     "text": [
      "Point-biserial correlation coefficient: 0.2412\n"
     ]
    }
   ],
   "source": [
    "from scipy.stats import pointbiserialr\n",
    "target=df['finalPrice']\n",
    "dummy=df['Others Country']\n",
    "corr, pvalue = pointbiserialr(target, dummy)\n",
    "print(f\"Point-biserial correlation coefficient: {corr:.4f}\")"
   ]
  },
  {
   "cell_type": "code",
   "execution_count": 101,
   "id": "54eb5b5a",
   "metadata": {},
   "outputs": [
    {
     "name": "stdout",
     "output_type": "stream",
     "text": [
      "Point-biserial correlation coefficient: -0.0140\n"
     ]
    }
   ],
   "source": [
    "from scipy.stats import pointbiserialr\n",
    "target=df['finalPrice']\n",
    "dummy=df['India']\n",
    "corr, pvalue = pointbiserialr(target, dummy)\n",
    "print(f\"Point-biserial correlation coefficient: {corr:.4f}\")"
   ]
  },
  {
   "cell_type": "code",
   "execution_count": 146,
   "id": "f5175286",
   "metadata": {},
   "outputs": [
    {
     "data": {
      "text/plain": [
       "-0.10596824137981477"
      ]
     },
     "execution_count": 146,
     "metadata": {},
     "output_type": "execute_result"
    }
   ],
   "source": [
    "corr = df['finalPrice'].corr(df['currencyRate'], method='pearson')\n",
    "corr"
   ]
  },
  {
   "cell_type": "code",
   "execution_count": 105,
   "id": "8343d531",
   "metadata": {},
   "outputs": [
    {
     "name": "stdout",
     "output_type": "stream",
     "text": [
      "Point-biserial correlation coefficient: -0.0010\n"
     ]
    }
   ],
   "source": [
    "from scipy.stats import pointbiserialr\n",
    "target=df['finalPrice']\n",
    "dummy=df['Economode']\n",
    "corr, pvalue = pointbiserialr(target, dummy)\n",
    "print(f\"Point-biserial correlation coefficient: {corr:.4f}\")"
   ]
  },
  {
   "cell_type": "code",
   "execution_count": 106,
   "id": "44903ef0",
   "metadata": {},
   "outputs": [
    {
     "name": "stdout",
     "output_type": "stream",
     "text": [
      "Point-biserial correlation coefficient: 0.0584\n"
     ]
    }
   ],
   "source": [
    "from scipy.stats import pointbiserialr\n",
    "target=df['finalPrice']\n",
    "dummy=df['Connnetwork']\n",
    "corr, pvalue = pointbiserialr(target, dummy)\n",
    "print(f\"Point-biserial correlation coefficient: {corr:.4f}\")"
   ]
  },
  {
   "cell_type": "code",
   "execution_count": 107,
   "id": "622fff44",
   "metadata": {},
   "outputs": [
    {
     "name": "stdout",
     "output_type": "stream",
     "text": [
      "Point-biserial correlation coefficient: -0.0575\n"
     ]
    }
   ],
   "source": [
    "from scipy.stats import pointbiserialr\n",
    "target=df['finalPrice']\n",
    "dummy=df['Not_Connnetwork']\n",
    "corr, pvalue = pointbiserialr(target, dummy)\n",
    "print(f\"Point-biserial correlation coefficient: {corr:.4f}\")"
   ]
  },
  {
   "cell_type": "code",
   "execution_count": 108,
   "id": "9f9bb5b6",
   "metadata": {},
   "outputs": [
    {
     "name": "stdout",
     "output_type": "stream",
     "text": [
      "Point-biserial correlation coefficient: -0.0217\n"
     ]
    }
   ],
   "source": [
    "from scipy.stats import pointbiserialr\n",
    "target=df['finalPrice']\n",
    "dummy=df['Connlocal']\n",
    "corr, pvalue = pointbiserialr(target, dummy)\n",
    "print(f\"Point-biserial correlation coefficient: {corr:.4f}\")"
   ]
  },
  {
   "cell_type": "code",
   "execution_count": 109,
   "id": "df6d054f",
   "metadata": {},
   "outputs": [
    {
     "name": "stdout",
     "output_type": "stream",
     "text": [
      "Point-biserial correlation coefficient: 0.0225\n"
     ]
    }
   ],
   "source": [
    "from scipy.stats import pointbiserialr\n",
    "target=df['finalPrice']\n",
    "dummy=df['Not_Connlocal']\n",
    "corr, pvalue = pointbiserialr(target, dummy)\n",
    "print(f\"Point-biserial correlation coefficient: {corr:.4f}\")"
   ]
  },
  {
   "cell_type": "code",
   "execution_count": 111,
   "id": "20ac4838",
   "metadata": {},
   "outputs": [
    {
     "name": "stdout",
     "output_type": "stream",
     "text": [
      "Point-biserial correlation coefficient: 0.0305\n"
     ]
    }
   ],
   "source": [
    "from scipy.stats import pointbiserialr\n",
    "target=df['finalPrice']\n",
    "dummy=df['HasWifi']\n",
    "corr, pvalue = pointbiserialr(target, dummy)\n",
    "print(f\"Point-biserial correlation coefficient: {corr:.4f}\")"
   ]
  },
  {
   "cell_type": "code",
   "execution_count": 112,
   "id": "54a85920",
   "metadata": {},
   "outputs": [
    {
     "name": "stdout",
     "output_type": "stream",
     "text": [
      "Point-biserial correlation coefficient: -0.0331\n"
     ]
    }
   ],
   "source": [
    "from scipy.stats import pointbiserialr\n",
    "target=df['finalPrice']\n",
    "dummy=df['Not_HasWifi']\n",
    "corr, pvalue = pointbiserialr(target, dummy)\n",
    "print(f\"Point-biserial correlation coefficient: {corr:.4f}\")"
   ]
  },
  {
   "cell_type": "code",
   "execution_count": 147,
   "id": "71f655fe",
   "metadata": {},
   "outputs": [
    {
     "data": {
      "text/plain": [
       "0.06997004349511199"
      ]
     },
     "execution_count": 147,
     "metadata": {},
     "output_type": "execute_result"
    }
   ],
   "source": [
    "corr = df['finalPrice'].corr(df['width'], method='pearson')\n",
    "corr"
   ]
  },
  {
   "cell_type": "code",
   "execution_count": 148,
   "id": "17c8d89c",
   "metadata": {},
   "outputs": [
    {
     "data": {
      "text/plain": [
       "0.09164277072775015"
      ]
     },
     "execution_count": 148,
     "metadata": {},
     "output_type": "execute_result"
    }
   ],
   "source": [
    "corr = df['finalPrice'].corr(df['depth'], method='pearson')\n",
    "corr"
   ]
  },
  {
   "cell_type": "code",
   "execution_count": 149,
   "id": "247e3a62",
   "metadata": {},
   "outputs": [
    {
     "data": {
      "text/plain": [
       "0.10493562202287558"
      ]
     },
     "execution_count": 149,
     "metadata": {},
     "output_type": "execute_result"
    }
   ],
   "source": [
    "corr = df['finalPrice'].corr(df['height'], method='pearson')\n",
    "corr"
   ]
  },
  {
   "cell_type": "code",
   "execution_count": 150,
   "id": "b4a77f78",
   "metadata": {},
   "outputs": [
    {
     "data": {
      "text/plain": [
       "0.09692069311321948"
      ]
     },
     "execution_count": 150,
     "metadata": {},
     "output_type": "execute_result"
    }
   ],
   "source": [
    "corr = df['finalPrice'].corr(df['weight'], method='pearson')\n",
    "corr"
   ]
  },
  {
   "cell_type": "code",
   "execution_count": 151,
   "id": "7d70314d",
   "metadata": {},
   "outputs": [
    {
     "data": {
      "text/plain": [
       "0.12076932164624643"
      ]
     },
     "execution_count": 151,
     "metadata": {},
     "output_type": "execute_result"
    }
   ],
   "source": [
    "corr = df['finalPrice'].corr(df['speedMono'], method='pearson')\n",
    "corr"
   ]
  },
  {
   "cell_type": "code",
   "execution_count": 152,
   "id": "ac9fdbf5",
   "metadata": {},
   "outputs": [
    {
     "data": {
      "text/plain": [
       "0.12358792585098403"
      ]
     },
     "execution_count": 152,
     "metadata": {},
     "output_type": "execute_result"
    }
   ],
   "source": [
    "corr = df['finalPrice'].corr(df['speedColor'], method='pearson')\n",
    "corr"
   ]
  },
  {
   "cell_type": "code",
   "execution_count": 182,
   "id": "55fd0589",
   "metadata": {
    "scrolled": true
   },
   "outputs": [
    {
     "data": {
      "text/plain": [
       "4800 x 1200    1130\n",
       "1200 x 1200    1081\n",
       "others          580\n",
       "600 x 600       532\n",
       "1200 x 600      212\n",
       "5760 x 1440     173\n",
       "2400 x 600      160\n",
       "1200 x 2400     125\n",
       "600 x 1200      111\n",
       "2400 x 1200     103\n",
       "Name: printDPI, dtype: int64"
      ]
     },
     "execution_count": 182,
     "metadata": {},
     "output_type": "execute_result"
    }
   ],
   "source": [
    "feq = df['printDPI'].value_counts()\n",
    "feq"
   ]
  },
  {
   "cell_type": "code",
   "execution_count": 181,
   "id": "e7a09957",
   "metadata": {},
   "outputs": [
    {
     "data": {
      "text/plain": [
       "-0.05516386495701936"
      ]
     },
     "execution_count": 181,
     "metadata": {},
     "output_type": "execute_result"
    }
   ],
   "source": [
    "corr = df['finalPrice'].corr(df['4800x1200'], method='pearson')\n",
    "corr"
   ]
  },
  {
   "cell_type": "code",
   "execution_count": 183,
   "id": "f0828ce2",
   "metadata": {},
   "outputs": [
    {
     "data": {
      "text/plain": [
       "0.09439804876496946"
      ]
     },
     "execution_count": 183,
     "metadata": {},
     "output_type": "execute_result"
    }
   ],
   "source": [
    "corr = df['finalPrice'].corr(df['1200x1200'], method='pearson')\n",
    "corr"
   ]
  },
  {
   "cell_type": "code",
   "execution_count": 184,
   "id": "612f9ca0",
   "metadata": {},
   "outputs": [
    {
     "data": {
      "text/plain": [
       "0.0002977182771803266"
      ]
     },
     "execution_count": 184,
     "metadata": {},
     "output_type": "execute_result"
    }
   ],
   "source": [
    "corr = df['finalPrice'].corr(df['Others dpi'], method='pearson')\n",
    "corr"
   ]
  },
  {
   "cell_type": "code",
   "execution_count": 185,
   "id": "fae40c10",
   "metadata": {},
   "outputs": [
    {
     "data": {
      "text/plain": [
       "-0.00931196406715969"
      ]
     },
     "execution_count": 185,
     "metadata": {},
     "output_type": "execute_result"
    }
   ],
   "source": [
    "corr = df['finalPrice'].corr(df['600x600'], method='pearson')\n",
    "corr"
   ]
  },
  {
   "cell_type": "code",
   "execution_count": 187,
   "id": "a78c18dc",
   "metadata": {},
   "outputs": [
    {
     "data": {
      "text/plain": [
       "-0.016911432147894687"
      ]
     },
     "execution_count": 187,
     "metadata": {},
     "output_type": "execute_result"
    }
   ],
   "source": [
    "corr = df['finalPrice'].corr(df['1200x600'], method='pearson')\n",
    "corr"
   ]
  },
  {
   "cell_type": "code",
   "execution_count": 188,
   "id": "4e2631db",
   "metadata": {},
   "outputs": [
    {
     "data": {
      "text/plain": [
       "-0.01890773815007689"
      ]
     },
     "execution_count": 188,
     "metadata": {},
     "output_type": "execute_result"
    }
   ],
   "source": [
    "corr = df['finalPrice'].corr(df['5760x1440'], method='pearson')\n",
    "corr"
   ]
  },
  {
   "cell_type": "code",
   "execution_count": 189,
   "id": "f8569ab7",
   "metadata": {},
   "outputs": [
    {
     "data": {
      "text/plain": [
       "-0.009972091383282105"
      ]
     },
     "execution_count": 189,
     "metadata": {},
     "output_type": "execute_result"
    }
   ],
   "source": [
    "corr = df['finalPrice'].corr(df['2400x600'], method='pearson')\n",
    "corr"
   ]
  },
  {
   "cell_type": "code",
   "execution_count": 190,
   "id": "59ea1e6e",
   "metadata": {},
   "outputs": [
    {
     "data": {
      "text/plain": [
       "-0.005693064288465182"
      ]
     },
     "execution_count": 190,
     "metadata": {},
     "output_type": "execute_result"
    }
   ],
   "source": [
    "corr = df['finalPrice'].corr(df['1200x2400'], method='pearson')\n",
    "corr"
   ]
  },
  {
   "cell_type": "code",
   "execution_count": 191,
   "id": "54f6dab4",
   "metadata": {},
   "outputs": [
    {
     "data": {
      "text/plain": [
       "-0.012205448768702422"
      ]
     },
     "execution_count": 191,
     "metadata": {},
     "output_type": "execute_result"
    }
   ],
   "source": [
    "corr = df['finalPrice'].corr(df['600x1200'], method='pearson')\n",
    "corr"
   ]
  },
  {
   "cell_type": "code",
   "execution_count": 153,
   "id": "d7e92b99",
   "metadata": {},
   "outputs": [
    {
     "data": {
      "text/plain": [
       "0.038104067262630326"
      ]
     },
     "execution_count": 153,
     "metadata": {},
     "output_type": "execute_result"
    }
   ],
   "source": [
    "corr = df['finalPrice'].corr(df['standardOutputCapacity'], method='pearson')\n",
    "corr"
   ]
  },
  {
   "cell_type": "code",
   "execution_count": 165,
   "id": "bcda59f4",
   "metadata": {},
   "outputs": [
    {
     "data": {
      "text/plain": [
       "0.03162836243668951"
      ]
     },
     "execution_count": 165,
     "metadata": {},
     "output_type": "execute_result"
    }
   ],
   "source": [
    "corr = df['finalPrice'].corr(df['maximumOutputCapacity'], method='pearson')\n",
    "corr"
   ]
  },
  {
   "cell_type": "code",
   "execution_count": 155,
   "id": "4cfaa826",
   "metadata": {},
   "outputs": [
    {
     "data": {
      "text/plain": [
       "0.1420235497704968"
      ]
     },
     "execution_count": 155,
     "metadata": {},
     "output_type": "execute_result"
    }
   ],
   "source": [
    "corr = df['finalPrice'].corr(df['standardInputCapacity'], method='pearson')\n",
    "corr"
   ]
  },
  {
   "cell_type": "code",
   "execution_count": 156,
   "id": "1f72fc8c",
   "metadata": {},
   "outputs": [
    {
     "data": {
      "text/plain": [
       "0.14811085528835202"
      ]
     },
     "execution_count": 156,
     "metadata": {},
     "output_type": "execute_result"
    }
   ],
   "source": [
    "corr = df['finalPrice'].corr(df['maximumInputCapacity'], method='pearson')\n",
    "corr"
   ]
  },
  {
   "cell_type": "code",
   "execution_count": 126,
   "id": "0f057247",
   "metadata": {},
   "outputs": [
    {
     "name": "stdout",
     "output_type": "stream",
     "text": [
      "Point-biserial correlation coefficient: -0.1129\n"
     ]
    }
   ],
   "source": [
    "from scipy.stats import pointbiserialr\n",
    "target=df['finalPrice']\n",
    "dummy=df['Not_HasA3']\n",
    "corr, pvalue = pointbiserialr(target, dummy)\n",
    "print(f\"Point-biserial correlation coefficient: {corr:.4f}\")"
   ]
  },
  {
   "cell_type": "code",
   "execution_count": 127,
   "id": "6cc2e62a",
   "metadata": {},
   "outputs": [
    {
     "name": "stdout",
     "output_type": "stream",
     "text": [
      "Point-biserial correlation coefficient: -0.0043\n"
     ]
    }
   ],
   "source": [
    "from scipy.stats import pointbiserialr\n",
    "target=df['finalPrice']\n",
    "dummy=df['HasA4']\n",
    "corr, pvalue = pointbiserialr(target, dummy)\n",
    "print(f\"Point-biserial correlation coefficient: {corr:.4f}\")"
   ]
  },
  {
   "cell_type": "code",
   "execution_count": 162,
   "id": "2e81db27",
   "metadata": {},
   "outputs": [
    {
     "name": "stdout",
     "output_type": "stream",
     "text": [
      "Point-biserial correlation coefficient: nan\n"
     ]
    }
   ],
   "source": [
    "from scipy.stats import pointbiserialr\n",
    "target=df['finalPrice']\n",
    "dummy=df['Not_HasA5']\n",
    "corr, pvalue = pointbiserialr(target, dummy)\n",
    "print(f\"Point-biserial correlation coefficient: {corr:.4f}\")"
   ]
  },
  {
   "cell_type": "code",
   "execution_count": 131,
   "id": "51ed48cb",
   "metadata": {},
   "outputs": [
    {
     "name": "stdout",
     "output_type": "stream",
     "text": [
      "Point-biserial correlation coefficient: 0.0605\n"
     ]
    }
   ],
   "source": [
    "from scipy.stats import pointbiserialr\n",
    "target=df['finalPrice']\n",
    "dummy=df['HasDuplex']\n",
    "corr, pvalue = pointbiserialr(target, dummy)\n",
    "print(f\"Point-biserial correlation coefficient: {corr:.4f}\")"
   ]
  },
  {
   "cell_type": "code",
   "execution_count": 132,
   "id": "04fae772",
   "metadata": {},
   "outputs": [
    {
     "name": "stdout",
     "output_type": "stream",
     "text": [
      "Point-biserial correlation coefficient: -0.0528\n"
     ]
    }
   ],
   "source": [
    "from scipy.stats import pointbiserialr\n",
    "target=df['finalPrice']\n",
    "dummy=df['Not_HasDuplex']\n",
    "corr, pvalue = pointbiserialr(target, dummy)\n",
    "print(f\"Point-biserial correlation coefficient: {corr:.4f}\")"
   ]
  },
  {
   "cell_type": "code",
   "execution_count": 135,
   "id": "c935ddcb",
   "metadata": {},
   "outputs": [
    {
     "name": "stdout",
     "output_type": "stream",
     "text": [
      "Point-biserial correlation coefficient: 0.0025\n"
     ]
    }
   ],
   "source": [
    "from scipy.stats import pointbiserialr\n",
    "target=df['finalPrice']\n",
    "dummy=df['Print']\n",
    "corr, pvalue = pointbiserialr(target, dummy)\n",
    "print(f\"Point-biserial correlation coefficient: {corr:.4f}\")"
   ]
  },
  {
   "cell_type": "code",
   "execution_count": 136,
   "id": "70f81453",
   "metadata": {},
   "outputs": [
    {
     "name": "stdout",
     "output_type": "stream",
     "text": [
      "Point-biserial correlation coefficient: -0.0020\n"
     ]
    }
   ],
   "source": [
    "from scipy.stats import pointbiserialr\n",
    "target=df['finalPrice']\n",
    "dummy=df['Not_Print']\n",
    "corr, pvalue = pointbiserialr(target, dummy)\n",
    "print(f\"Point-biserial correlation coefficient: {corr:.4f}\")"
   ]
  },
  {
   "cell_type": "code",
   "execution_count": 137,
   "id": "7d01dc03",
   "metadata": {},
   "outputs": [
    {
     "name": "stdout",
     "output_type": "stream",
     "text": [
      "Point-biserial correlation coefficient: -0.0115\n"
     ]
    }
   ],
   "source": [
    "from scipy.stats import pointbiserialr\n",
    "target=df['finalPrice']\n",
    "dummy=df['Copy']\n",
    "corr, pvalue = pointbiserialr(target, dummy)\n",
    "print(f\"Point-biserial correlation coefficient: {corr:.4f}\")"
   ]
  },
  {
   "cell_type": "code",
   "execution_count": 138,
   "id": "4de41e39",
   "metadata": {},
   "outputs": [
    {
     "name": "stdout",
     "output_type": "stream",
     "text": [
      "Point-biserial correlation coefficient: 0.0126\n"
     ]
    }
   ],
   "source": [
    "from scipy.stats import pointbiserialr\n",
    "target=df['finalPrice']\n",
    "dummy=df['Not_Copy']\n",
    "corr, pvalue = pointbiserialr(target, dummy)\n",
    "print(f\"Point-biserial correlation coefficient: {corr:.4f}\")"
   ]
  },
  {
   "cell_type": "code",
   "execution_count": 139,
   "id": "db3d844c",
   "metadata": {},
   "outputs": [
    {
     "name": "stdout",
     "output_type": "stream",
     "text": [
      "Point-biserial correlation coefficient: 0.0067\n"
     ]
    }
   ],
   "source": [
    "from scipy.stats import pointbiserialr\n",
    "target=df['finalPrice']\n",
    "dummy=df['Scan']\n",
    "corr, pvalue = pointbiserialr(target, dummy)\n",
    "print(f\"Point-biserial correlation coefficient: {corr:.4f}\")"
   ]
  },
  {
   "cell_type": "code",
   "execution_count": 140,
   "id": "df89cf2b",
   "metadata": {},
   "outputs": [
    {
     "name": "stdout",
     "output_type": "stream",
     "text": [
      "Point-biserial correlation coefficient: -0.0056\n"
     ]
    }
   ],
   "source": [
    "from scipy.stats import pointbiserialr\n",
    "target=df['finalPrice']\n",
    "dummy=df['Not_Scan']\n",
    "corr, pvalue = pointbiserialr(target, dummy)\n",
    "print(f\"Point-biserial correlation coefficient: {corr:.4f}\")"
   ]
  },
  {
   "cell_type": "code",
   "execution_count": 157,
   "id": "5af95152",
   "metadata": {},
   "outputs": [
    {
     "data": {
      "text/plain": [
       "0.09409600111969474"
      ]
     },
     "execution_count": 157,
     "metadata": {},
     "output_type": "execute_result"
    }
   ],
   "source": [
    "corr = df['finalPrice'].corr(df['powerActive'], method='pearson')\n",
    "corr"
   ]
  },
  {
   "cell_type": "code",
   "execution_count": 158,
   "id": "38c71401",
   "metadata": {},
   "outputs": [
    {
     "data": {
      "text/plain": [
       "0.000742116230155489"
      ]
     },
     "execution_count": 158,
     "metadata": {},
     "output_type": "execute_result"
    }
   ],
   "source": [
    "corr = df['finalPrice'].corr(df['powerIdle'], method='pearson')\n",
    "corr"
   ]
  },
  {
   "cell_type": "code",
   "execution_count": 159,
   "id": "d97cb5d3",
   "metadata": {},
   "outputs": [
    {
     "data": {
      "text/plain": [
       "-0.005190470200557515"
      ]
     },
     "execution_count": 159,
     "metadata": {},
     "output_type": "execute_result"
    }
   ],
   "source": [
    "corr = df['finalPrice'].corr(df['powerSave'], method='pearson')\n",
    "corr"
   ]
  },
  {
   "cell_type": "code",
   "execution_count": null,
   "id": "075b6e65",
   "metadata": {},
   "outputs": [],
   "source": []
  }
 ],
 "metadata": {
  "kernelspec": {
   "display_name": "Python 3 (ipykernel)",
   "language": "python",
   "name": "python3"
  },
  "language_info": {
   "codemirror_mode": {
    "name": "ipython",
    "version": 3
   },
   "file_extension": ".py",
   "mimetype": "text/x-python",
   "name": "python",
   "nbconvert_exporter": "python",
   "pygments_lexer": "ipython3",
   "version": "3.11.1"
  }
 },
 "nbformat": 4,
 "nbformat_minor": 5
}
